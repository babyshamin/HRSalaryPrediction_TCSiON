{
 "cells": [
  {
   "cell_type": "code",
   "execution_count": 1,
   "id": "27ef6a41",
   "metadata": {},
   "outputs": [],
   "source": [
    "#importing libraries\n",
    "import pandas as pd\n",
    "import numpy as np\n",
    "import seaborn as sns\n",
    "import matplotlib.pyplot as plt"
   ]
  },
  {
   "cell_type": "code",
   "execution_count": 2,
   "id": "ebad208b",
   "metadata": {},
   "outputs": [],
   "source": [
    "#loading dataset to python environment"
   ]
  },
  {
   "cell_type": "code",
   "execution_count": 3,
   "id": "3ae8b228",
   "metadata": {},
   "outputs": [],
   "source": [
    "data=pd.read_csv(\"salary_data.csv\")"
   ]
  },
  {
   "cell_type": "markdown",
   "id": "63b9bfee",
   "metadata": {},
   "source": [
    "### Understanding the Data"
   ]
  },
  {
   "cell_type": "code",
   "execution_count": 4,
   "id": "89bcc5f4",
   "metadata": {},
   "outputs": [],
   "source": [
    "#understanding the data"
   ]
  },
  {
   "cell_type": "code",
   "execution_count": 5,
   "id": "97300c5b",
   "metadata": {},
   "outputs": [
    {
     "data": {
      "text/html": [
       "<div>\n",
       "<style scoped>\n",
       "    .dataframe tbody tr th:only-of-type {\n",
       "        vertical-align: middle;\n",
       "    }\n",
       "\n",
       "    .dataframe tbody tr th {\n",
       "        vertical-align: top;\n",
       "    }\n",
       "\n",
       "    .dataframe thead th {\n",
       "        text-align: right;\n",
       "    }\n",
       "</style>\n",
       "<table border=\"1\" class=\"dataframe\">\n",
       "  <thead>\n",
       "    <tr style=\"text-align: right;\">\n",
       "      <th></th>\n",
       "      <th>age</th>\n",
       "      <th>workclass</th>\n",
       "      <th>education</th>\n",
       "      <th>education-num</th>\n",
       "      <th>marital_status</th>\n",
       "      <th>occupation</th>\n",
       "      <th>relationship</th>\n",
       "      <th>race</th>\n",
       "      <th>sex</th>\n",
       "      <th>capital-gain</th>\n",
       "      <th>capital-loss</th>\n",
       "      <th>hours_per_week</th>\n",
       "      <th>native-country</th>\n",
       "      <th>salary</th>\n",
       "    </tr>\n",
       "  </thead>\n",
       "  <tbody>\n",
       "    <tr>\n",
       "      <th>0</th>\n",
       "      <td>39</td>\n",
       "      <td>State-gov</td>\n",
       "      <td>Bachelors</td>\n",
       "      <td>13</td>\n",
       "      <td>Never-married</td>\n",
       "      <td>Adm-clerical</td>\n",
       "      <td>Not-in-family</td>\n",
       "      <td>White</td>\n",
       "      <td>Male</td>\n",
       "      <td>2174</td>\n",
       "      <td>0</td>\n",
       "      <td>40</td>\n",
       "      <td>United-States</td>\n",
       "      <td>&lt;=50K</td>\n",
       "    </tr>\n",
       "    <tr>\n",
       "      <th>1</th>\n",
       "      <td>50</td>\n",
       "      <td>Self-emp-not-inc</td>\n",
       "      <td>Bachelors</td>\n",
       "      <td>13</td>\n",
       "      <td>Married-civ-spouse</td>\n",
       "      <td>Exec-managerial</td>\n",
       "      <td>Husband</td>\n",
       "      <td>White</td>\n",
       "      <td>Male</td>\n",
       "      <td>0</td>\n",
       "      <td>0</td>\n",
       "      <td>13</td>\n",
       "      <td>United-States</td>\n",
       "      <td>&lt;=50K</td>\n",
       "    </tr>\n",
       "    <tr>\n",
       "      <th>2</th>\n",
       "      <td>38</td>\n",
       "      <td>Private</td>\n",
       "      <td>HS-grad</td>\n",
       "      <td>9</td>\n",
       "      <td>Divorced</td>\n",
       "      <td>Handlers-cleaners</td>\n",
       "      <td>Not-in-family</td>\n",
       "      <td>White</td>\n",
       "      <td>Male</td>\n",
       "      <td>0</td>\n",
       "      <td>0</td>\n",
       "      <td>40</td>\n",
       "      <td>United-States</td>\n",
       "      <td>&lt;=50K</td>\n",
       "    </tr>\n",
       "    <tr>\n",
       "      <th>3</th>\n",
       "      <td>53</td>\n",
       "      <td>Private</td>\n",
       "      <td>11th</td>\n",
       "      <td>7</td>\n",
       "      <td>Married-civ-spouse</td>\n",
       "      <td>Handlers-cleaners</td>\n",
       "      <td>Husband</td>\n",
       "      <td>Black</td>\n",
       "      <td>Male</td>\n",
       "      <td>0</td>\n",
       "      <td>0</td>\n",
       "      <td>40</td>\n",
       "      <td>United-States</td>\n",
       "      <td>&lt;=50K</td>\n",
       "    </tr>\n",
       "    <tr>\n",
       "      <th>4</th>\n",
       "      <td>28</td>\n",
       "      <td>Private</td>\n",
       "      <td>Bachelors</td>\n",
       "      <td>13</td>\n",
       "      <td>Married-civ-spouse</td>\n",
       "      <td>Prof-specialty</td>\n",
       "      <td>Wife</td>\n",
       "      <td>Black</td>\n",
       "      <td>Female</td>\n",
       "      <td>0</td>\n",
       "      <td>0</td>\n",
       "      <td>40</td>\n",
       "      <td>Cuba</td>\n",
       "      <td>&lt;=50K</td>\n",
       "    </tr>\n",
       "  </tbody>\n",
       "</table>\n",
       "</div>"
      ],
      "text/plain": [
       "   age         workclass  education  education-num      marital_status  \\\n",
       "0   39         State-gov  Bachelors             13       Never-married   \n",
       "1   50  Self-emp-not-inc  Bachelors             13  Married-civ-spouse   \n",
       "2   38           Private    HS-grad              9            Divorced   \n",
       "3   53           Private       11th              7  Married-civ-spouse   \n",
       "4   28           Private  Bachelors             13  Married-civ-spouse   \n",
       "\n",
       "          occupation   relationship   race     sex  capital-gain  \\\n",
       "0       Adm-clerical  Not-in-family  White    Male          2174   \n",
       "1    Exec-managerial        Husband  White    Male             0   \n",
       "2  Handlers-cleaners  Not-in-family  White    Male             0   \n",
       "3  Handlers-cleaners        Husband  Black    Male             0   \n",
       "4     Prof-specialty           Wife  Black  Female             0   \n",
       "\n",
       "   capital-loss  hours_per_week native-country salary  \n",
       "0             0              40  United-States  <=50K  \n",
       "1             0              13  United-States  <=50K  \n",
       "2             0              40  United-States  <=50K  \n",
       "3             0              40  United-States  <=50K  \n",
       "4             0              40           Cuba  <=50K  "
      ]
     },
     "execution_count": 5,
     "metadata": {},
     "output_type": "execute_result"
    }
   ],
   "source": [
    "data.head()"
   ]
  },
  {
   "cell_type": "code",
   "execution_count": 6,
   "id": "8f939e39",
   "metadata": {},
   "outputs": [
    {
     "data": {
      "text/plain": [
       "(32561, 14)"
      ]
     },
     "execution_count": 6,
     "metadata": {},
     "output_type": "execute_result"
    }
   ],
   "source": [
    "data.shape #check the shape of the dataset"
   ]
  },
  {
   "cell_type": "code",
   "execution_count": 7,
   "id": "370e0095",
   "metadata": {},
   "outputs": [
    {
     "name": "stdout",
     "output_type": "stream",
     "text": [
      "<class 'pandas.core.frame.DataFrame'>\n",
      "RangeIndex: 32561 entries, 0 to 32560\n",
      "Data columns (total 14 columns):\n",
      " #   Column          Non-Null Count  Dtype \n",
      "---  ------          --------------  ----- \n",
      " 0   age             32561 non-null  int64 \n",
      " 1   workclass       32561 non-null  object\n",
      " 2   education       32561 non-null  object\n",
      " 3   education-num   32561 non-null  int64 \n",
      " 4   marital_status  32561 non-null  object\n",
      " 5   occupation      32561 non-null  object\n",
      " 6   relationship    32561 non-null  object\n",
      " 7   race            32561 non-null  object\n",
      " 8   sex             32561 non-null  object\n",
      " 9   capital-gain    32561 non-null  int64 \n",
      " 10  capital-loss    32561 non-null  int64 \n",
      " 11  hours_per_week  32561 non-null  int64 \n",
      " 12  native-country  32561 non-null  object\n",
      " 13  salary          32561 non-null  object\n",
      "dtypes: int64(5), object(9)\n",
      "memory usage: 3.5+ MB\n"
     ]
    }
   ],
   "source": [
    "data.info() #check the datatype of each column"
   ]
  },
  {
   "cell_type": "code",
   "execution_count": 8,
   "id": "1eafcddf",
   "metadata": {},
   "outputs": [],
   "source": [
    "num_cols=data[[\"age\",\"education-num\",\"capital-gain\",\"capital-loss\",\"hours_per_week\"]]"
   ]
  },
  {
   "cell_type": "code",
   "execution_count": 9,
   "id": "55cb1b87",
   "metadata": {},
   "outputs": [],
   "source": [
    "cat_cols=data[[\"workclass\",\"education\",\"marital_status\",\"occupation\",\"relationship\",\"race\",\"sex\",\"native-country\",\"salary\"]]"
   ]
  },
  {
   "cell_type": "code",
   "execution_count": 10,
   "id": "b3f01310",
   "metadata": {},
   "outputs": [
    {
     "data": {
      "text/html": [
       "<div>\n",
       "<style scoped>\n",
       "    .dataframe tbody tr th:only-of-type {\n",
       "        vertical-align: middle;\n",
       "    }\n",
       "\n",
       "    .dataframe tbody tr th {\n",
       "        vertical-align: top;\n",
       "    }\n",
       "\n",
       "    .dataframe thead th {\n",
       "        text-align: right;\n",
       "    }\n",
       "</style>\n",
       "<table border=\"1\" class=\"dataframe\">\n",
       "  <thead>\n",
       "    <tr style=\"text-align: right;\">\n",
       "      <th></th>\n",
       "      <th>age</th>\n",
       "      <th>workclass</th>\n",
       "      <th>education</th>\n",
       "      <th>education-num</th>\n",
       "      <th>marital_status</th>\n",
       "      <th>occupation</th>\n",
       "      <th>relationship</th>\n",
       "      <th>race</th>\n",
       "      <th>sex</th>\n",
       "      <th>capital-gain</th>\n",
       "      <th>capital-loss</th>\n",
       "      <th>hours_per_week</th>\n",
       "      <th>native-country</th>\n",
       "      <th>salary</th>\n",
       "    </tr>\n",
       "  </thead>\n",
       "  <tbody>\n",
       "    <tr>\n",
       "      <th>32556</th>\n",
       "      <td>27</td>\n",
       "      <td>Private</td>\n",
       "      <td>Assoc-acdm</td>\n",
       "      <td>12</td>\n",
       "      <td>Married-civ-spouse</td>\n",
       "      <td>Tech-support</td>\n",
       "      <td>Wife</td>\n",
       "      <td>White</td>\n",
       "      <td>Female</td>\n",
       "      <td>0</td>\n",
       "      <td>0</td>\n",
       "      <td>38</td>\n",
       "      <td>United-States</td>\n",
       "      <td>&lt;=50K</td>\n",
       "    </tr>\n",
       "    <tr>\n",
       "      <th>32557</th>\n",
       "      <td>40</td>\n",
       "      <td>Private</td>\n",
       "      <td>HS-grad</td>\n",
       "      <td>9</td>\n",
       "      <td>Married-civ-spouse</td>\n",
       "      <td>Machine-op-inspct</td>\n",
       "      <td>Husband</td>\n",
       "      <td>White</td>\n",
       "      <td>Male</td>\n",
       "      <td>0</td>\n",
       "      <td>0</td>\n",
       "      <td>40</td>\n",
       "      <td>United-States</td>\n",
       "      <td>&gt;50K</td>\n",
       "    </tr>\n",
       "    <tr>\n",
       "      <th>32558</th>\n",
       "      <td>58</td>\n",
       "      <td>Private</td>\n",
       "      <td>HS-grad</td>\n",
       "      <td>9</td>\n",
       "      <td>Widowed</td>\n",
       "      <td>Adm-clerical</td>\n",
       "      <td>Unmarried</td>\n",
       "      <td>White</td>\n",
       "      <td>Female</td>\n",
       "      <td>0</td>\n",
       "      <td>0</td>\n",
       "      <td>40</td>\n",
       "      <td>United-States</td>\n",
       "      <td>&lt;=50K</td>\n",
       "    </tr>\n",
       "    <tr>\n",
       "      <th>32559</th>\n",
       "      <td>22</td>\n",
       "      <td>Private</td>\n",
       "      <td>HS-grad</td>\n",
       "      <td>9</td>\n",
       "      <td>Never-married</td>\n",
       "      <td>Adm-clerical</td>\n",
       "      <td>Own-child</td>\n",
       "      <td>White</td>\n",
       "      <td>Male</td>\n",
       "      <td>0</td>\n",
       "      <td>0</td>\n",
       "      <td>20</td>\n",
       "      <td>United-States</td>\n",
       "      <td>&lt;=50K</td>\n",
       "    </tr>\n",
       "    <tr>\n",
       "      <th>32560</th>\n",
       "      <td>52</td>\n",
       "      <td>Self-emp-inc</td>\n",
       "      <td>HS-grad</td>\n",
       "      <td>9</td>\n",
       "      <td>Married-civ-spouse</td>\n",
       "      <td>Exec-managerial</td>\n",
       "      <td>Wife</td>\n",
       "      <td>White</td>\n",
       "      <td>Female</td>\n",
       "      <td>15024</td>\n",
       "      <td>0</td>\n",
       "      <td>40</td>\n",
       "      <td>United-States</td>\n",
       "      <td>&gt;50K</td>\n",
       "    </tr>\n",
       "  </tbody>\n",
       "</table>\n",
       "</div>"
      ],
      "text/plain": [
       "       age     workclass   education  education-num      marital_status  \\\n",
       "32556   27       Private  Assoc-acdm             12  Married-civ-spouse   \n",
       "32557   40       Private     HS-grad              9  Married-civ-spouse   \n",
       "32558   58       Private     HS-grad              9             Widowed   \n",
       "32559   22       Private     HS-grad              9       Never-married   \n",
       "32560   52  Self-emp-inc     HS-grad              9  Married-civ-spouse   \n",
       "\n",
       "              occupation relationship   race     sex  capital-gain  \\\n",
       "32556       Tech-support         Wife  White  Female             0   \n",
       "32557  Machine-op-inspct      Husband  White    Male             0   \n",
       "32558       Adm-clerical    Unmarried  White  Female             0   \n",
       "32559       Adm-clerical    Own-child  White    Male             0   \n",
       "32560    Exec-managerial         Wife  White  Female         15024   \n",
       "\n",
       "       capital-loss  hours_per_week native-country salary  \n",
       "32556             0              38  United-States  <=50K  \n",
       "32557             0              40  United-States   >50K  \n",
       "32558             0              40  United-States  <=50K  \n",
       "32559             0              20  United-States  <=50K  \n",
       "32560             0              40  United-States   >50K  "
      ]
     },
     "execution_count": 10,
     "metadata": {},
     "output_type": "execute_result"
    }
   ],
   "source": [
    "data.tail()"
   ]
  },
  {
   "cell_type": "code",
   "execution_count": 11,
   "id": "f608ed41",
   "metadata": {},
   "outputs": [
    {
     "data": {
      "text/html": [
       "<div>\n",
       "<style scoped>\n",
       "    .dataframe tbody tr th:only-of-type {\n",
       "        vertical-align: middle;\n",
       "    }\n",
       "\n",
       "    .dataframe tbody tr th {\n",
       "        vertical-align: top;\n",
       "    }\n",
       "\n",
       "    .dataframe thead th {\n",
       "        text-align: right;\n",
       "    }\n",
       "</style>\n",
       "<table border=\"1\" class=\"dataframe\">\n",
       "  <thead>\n",
       "    <tr style=\"text-align: right;\">\n",
       "      <th></th>\n",
       "      <th>age</th>\n",
       "      <th>education-num</th>\n",
       "      <th>capital-gain</th>\n",
       "      <th>capital-loss</th>\n",
       "      <th>hours_per_week</th>\n",
       "    </tr>\n",
       "  </thead>\n",
       "  <tbody>\n",
       "    <tr>\n",
       "      <th>count</th>\n",
       "      <td>32561.000000</td>\n",
       "      <td>32561.000000</td>\n",
       "      <td>32561.000000</td>\n",
       "      <td>32561.000000</td>\n",
       "      <td>32561.000000</td>\n",
       "    </tr>\n",
       "    <tr>\n",
       "      <th>mean</th>\n",
       "      <td>38.581647</td>\n",
       "      <td>10.080679</td>\n",
       "      <td>1077.648844</td>\n",
       "      <td>87.303830</td>\n",
       "      <td>40.437456</td>\n",
       "    </tr>\n",
       "    <tr>\n",
       "      <th>std</th>\n",
       "      <td>13.640433</td>\n",
       "      <td>2.572720</td>\n",
       "      <td>7385.292085</td>\n",
       "      <td>402.960219</td>\n",
       "      <td>12.347429</td>\n",
       "    </tr>\n",
       "    <tr>\n",
       "      <th>min</th>\n",
       "      <td>17.000000</td>\n",
       "      <td>1.000000</td>\n",
       "      <td>0.000000</td>\n",
       "      <td>0.000000</td>\n",
       "      <td>1.000000</td>\n",
       "    </tr>\n",
       "    <tr>\n",
       "      <th>25%</th>\n",
       "      <td>28.000000</td>\n",
       "      <td>9.000000</td>\n",
       "      <td>0.000000</td>\n",
       "      <td>0.000000</td>\n",
       "      <td>40.000000</td>\n",
       "    </tr>\n",
       "    <tr>\n",
       "      <th>50%</th>\n",
       "      <td>37.000000</td>\n",
       "      <td>10.000000</td>\n",
       "      <td>0.000000</td>\n",
       "      <td>0.000000</td>\n",
       "      <td>40.000000</td>\n",
       "    </tr>\n",
       "    <tr>\n",
       "      <th>75%</th>\n",
       "      <td>48.000000</td>\n",
       "      <td>12.000000</td>\n",
       "      <td>0.000000</td>\n",
       "      <td>0.000000</td>\n",
       "      <td>45.000000</td>\n",
       "    </tr>\n",
       "    <tr>\n",
       "      <th>max</th>\n",
       "      <td>90.000000</td>\n",
       "      <td>16.000000</td>\n",
       "      <td>99999.000000</td>\n",
       "      <td>4356.000000</td>\n",
       "      <td>99.000000</td>\n",
       "    </tr>\n",
       "  </tbody>\n",
       "</table>\n",
       "</div>"
      ],
      "text/plain": [
       "                age  education-num  capital-gain  capital-loss  hours_per_week\n",
       "count  32561.000000   32561.000000  32561.000000  32561.000000    32561.000000\n",
       "mean      38.581647      10.080679   1077.648844     87.303830       40.437456\n",
       "std       13.640433       2.572720   7385.292085    402.960219       12.347429\n",
       "min       17.000000       1.000000      0.000000      0.000000        1.000000\n",
       "25%       28.000000       9.000000      0.000000      0.000000       40.000000\n",
       "50%       37.000000      10.000000      0.000000      0.000000       40.000000\n",
       "75%       48.000000      12.000000      0.000000      0.000000       45.000000\n",
       "max       90.000000      16.000000  99999.000000   4356.000000       99.000000"
      ]
     },
     "execution_count": 11,
     "metadata": {},
     "output_type": "execute_result"
    }
   ],
   "source": [
    "data.describe()"
   ]
  },
  {
   "cell_type": "code",
   "execution_count": 12,
   "id": "116f9dc3",
   "metadata": {},
   "outputs": [
    {
     "data": {
      "text/plain": [
       "age                73\n",
       "workclass           9\n",
       "education          16\n",
       "education-num      16\n",
       "marital_status      7\n",
       "occupation         15\n",
       "relationship        6\n",
       "race                5\n",
       "sex                 2\n",
       "capital-gain      119\n",
       "capital-loss       92\n",
       "hours_per_week     94\n",
       "native-country     42\n",
       "salary              2\n",
       "dtype: int64"
      ]
     },
     "execution_count": 12,
     "metadata": {},
     "output_type": "execute_result"
    }
   ],
   "source": [
    "data.nunique() # number of unique values in the dataset"
   ]
  },
  {
   "cell_type": "code",
   "execution_count": 13,
   "id": "c384c09d",
   "metadata": {},
   "outputs": [
    {
     "name": "stdout",
     "output_type": "stream",
     "text": [
      "age\n",
      "[39 50 38 53 28 37 49 52 31 42 30 23 32 40 34 25 43 54 35 59 56 19 20 45\n",
      " 22 48 21 24 57 44 41 29 18 47 46 36 79 27 67 33 76 17 55 61 70 64 71 68\n",
      " 66 51 58 26 60 90 75 65 77 62 63 80 72 74 69 73 81 78 88 82 83 84 85 86\n",
      " 87]\n",
      "--------------------------------------------------\n",
      "\n",
      "\n",
      "workclass\n",
      "['State-gov' 'Self-emp-not-inc' 'Private' 'Federal-gov' 'Local-gov' '?'\n",
      " 'Self-emp-inc' 'Without-pay' 'Never-worked']\n",
      "--------------------------------------------------\n",
      "\n",
      "\n",
      "education\n",
      "['Bachelors' 'HS-grad' '11th' 'Masters' '9th' 'Some-college' 'Assoc-acdm'\n",
      " 'Assoc-voc' '7th-8th' 'Doctorate' 'Prof-school' '5th-6th' '10th'\n",
      " '1st-4th' 'Preschool' '12th']\n",
      "--------------------------------------------------\n",
      "\n",
      "\n",
      "education-num\n",
      "[13  9  7 14  5 10 12 11  4 16 15  3  6  2  1  8]\n",
      "--------------------------------------------------\n",
      "\n",
      "\n",
      "marital_status\n",
      "['Never-married' 'Married-civ-spouse' 'Divorced' 'Married-spouse-absent'\n",
      " 'Separated' 'Married-AF-spouse' 'Widowed']\n",
      "--------------------------------------------------\n",
      "\n",
      "\n",
      "occupation\n",
      "['Adm-clerical' 'Exec-managerial' 'Handlers-cleaners' 'Prof-specialty'\n",
      " 'Other-service' 'Sales' 'Craft-repair' 'Transport-moving'\n",
      " 'Farming-fishing' 'Machine-op-inspct' 'Tech-support' '?'\n",
      " 'Protective-serv' 'Armed-Forces' 'Priv-house-serv']\n",
      "--------------------------------------------------\n",
      "\n",
      "\n",
      "relationship\n",
      "['Not-in-family' 'Husband' 'Wife' 'Own-child' 'Unmarried' 'Other-relative']\n",
      "--------------------------------------------------\n",
      "\n",
      "\n",
      "race\n",
      "['White' 'Black' 'Asian-Pac-Islander' 'Amer-Indian-Eskimo' 'Other']\n",
      "--------------------------------------------------\n",
      "\n",
      "\n",
      "sex\n",
      "['Male' 'Female']\n",
      "--------------------------------------------------\n",
      "\n",
      "\n",
      "capital-gain\n",
      "[ 2174     0 14084  5178  5013  2407 14344 15024  7688 34095  4064  4386\n",
      "  7298  1409  3674  1055  3464  2050  2176   594 20051  6849  4101  1111\n",
      "  8614  3411  2597 25236  4650  9386  2463  3103 10605  2964  3325  2580\n",
      "  3471  4865 99999  6514  1471  2329  2105  2885 25124 10520  2202  2961\n",
      " 27828  6767  2228  1506 13550  2635  5556  4787  3781  3137  3818  3942\n",
      "   914   401  2829  2977  4934  2062  2354  5455 15020  1424  3273 22040\n",
      "  4416  3908 10566   991  4931  1086  7430  6497   114  7896  2346  3418\n",
      "  3432  2907  1151  2414  2290 15831 41310  4508  2538  3456  6418  1848\n",
      "  3887  5721  9562  1455  2036  1831 11678  2936  2993  7443  6360  1797\n",
      "  1173  4687  6723  2009  6097  2653  1639 18481  7978  2387  5060]\n",
      "--------------------------------------------------\n",
      "\n",
      "\n",
      "capital-loss\n",
      "[   0 2042 1408 1902 1573 1887 1719 1762 1564 2179 1816 1980 1977 1876\n",
      " 1340 2206 1741 1485 2339 2415 1380 1721 2051 2377 1669 2352 1672  653\n",
      " 2392 1504 2001 1590 1651 1628 1848 1740 2002 1579 2258 1602  419 2547\n",
      " 2174 2205 1726 2444 1138 2238  625  213 1539  880 1668 1092 1594 3004\n",
      " 2231 1844  810 2824 2559 2057 1974  974 2149 1825 1735 1258 2129 2603\n",
      " 2282  323 4356 2246 1617 1648 2489 3770 1755 3683 2267 2080 2457  155\n",
      " 3900 2201 1944 2467 2163 2754 2472 1411]\n",
      "--------------------------------------------------\n",
      "\n",
      "\n",
      "hours_per_week\n",
      "[40 13 16 45 50 80 30 35 60 20 52 44 15 25 38 43 55 48 58 32 70  2 22 56\n",
      " 41 28 36 24 46 42 12 65  1 10 34 75 98 33 54  8  6 64 19 18 72  5  9 47\n",
      " 37 21 26 14  4 59  7 99 53 39 62 57 78 90 66 11 49 84  3 17 68 27 85 31\n",
      " 51 77 63 23 87 88 73 89 97 94 29 96 67 82 86 91 81 76 92 61 74 95]\n",
      "--------------------------------------------------\n",
      "\n",
      "\n",
      "native-country\n",
      "['United-States' 'Cuba' 'Jamaica' 'India' '?' 'Mexico' 'South'\n",
      " 'Puerto-Rico' 'Honduras' 'England' 'Canada' 'Germany' 'Iran'\n",
      " 'Philippines' 'Italy' 'Poland' 'Columbia' 'Cambodia' 'Thailand' 'Ecuador'\n",
      " 'Laos' 'Taiwan' 'Haiti' 'Portugal' 'Dominican-Republic' 'El-Salvador'\n",
      " 'France' 'Guatemala' 'China' 'Japan' 'Yugoslavia' 'Peru'\n",
      " 'Outlying-US(Guam-USVI-etc)' 'Scotland' 'Trinadad&Tobago' 'Greece'\n",
      " 'Nicaragua' 'Vietnam' 'Hong' 'Ireland' 'Hungary' 'Holand-Netherlands']\n",
      "--------------------------------------------------\n",
      "\n",
      "\n",
      "salary\n",
      "['<=50K' '>50K']\n",
      "--------------------------------------------------\n",
      "\n",
      "\n"
     ]
    }
   ],
   "source": [
    "for i in data.columns:\n",
    "    print(i)\n",
    "    print(data[i].unique())\n",
    "    print(\"-\"*50)\n",
    "    print(\"\\n\")"
   ]
  },
  {
   "cell_type": "code",
   "execution_count": 14,
   "id": "6dbcb7db",
   "metadata": {},
   "outputs": [
    {
     "data": {
      "text/plain": [
       "age  workclass         education     education-num  marital_status      occupation         relationship  race   sex     capital-gain  capital-loss  hours_per_week  native-country  salary\n",
       "33   Private           HS-grad       9              Married-civ-spouse  Craft-repair       Husband       White  Male    0             0             40              United-States   <=50K     16\n",
       "35   Private           HS-grad       9              Married-civ-spouse  Craft-repair       Husband       White  Male    0             0             40              United-States   <=50K     15\n",
       "51   Private           HS-grad       9              Married-civ-spouse  Craft-repair       Husband       White  Male    0             0             40              United-States   <=50K     14\n",
       "39   Private           HS-grad       9              Married-civ-spouse  Craft-repair       Husband       White  Male    0             0             40              United-States   <=50K     14\n",
       "20   ?                 Some-college  10             Never-married       ?                  Own-child     White  Female  0             0             40              United-States   <=50K     14\n",
       "                                                                                                                                                                                              ..\n",
       "32   Private           Some-college  10             Married-civ-spouse  Other-service      Husband       Black  Male    0             0             50              United-States   <=50K      1\n",
       "                                                                        Machine-op-inspct  Husband       White  Male    3464          0             40              United-States   <=50K      1\n",
       "                                                                                                                        0             0             84              United-States   >50K       1\n",
       "                                                                                                                                                    50              United-States   <=50K      1\n",
       "90   Self-emp-not-inc  Some-college  10             Married-civ-spouse  Farming-fishing    Husband       White  Male    0             0             40              United-States   <=50K      1\n",
       "Length: 29096, dtype: int64"
      ]
     },
     "execution_count": 14,
     "metadata": {},
     "output_type": "execute_result"
    }
   ],
   "source": [
    "data.value_counts()"
   ]
  },
  {
   "cell_type": "markdown",
   "id": "15a087b8",
   "metadata": {},
   "source": [
    "Missing Value Handling"
   ]
  },
  {
   "cell_type": "code",
   "execution_count": 15,
   "id": "9695ae99",
   "metadata": {},
   "outputs": [
    {
     "data": {
      "text/plain": [
       "age                  0\n",
       "workclass         1836\n",
       "education            0\n",
       "education-num        0\n",
       "marital_status       0\n",
       "occupation        1843\n",
       "relationship         0\n",
       "race                 0\n",
       "sex                  0\n",
       "capital-gain         0\n",
       "capital-loss         0\n",
       "hours_per_week       0\n",
       "native-country     583\n",
       "salary               0\n",
       "dtype: int64"
      ]
     },
     "execution_count": 15,
     "metadata": {},
     "output_type": "execute_result"
    }
   ],
   "source": [
    "data.isin(['?']).sum(axis=0)# special character '?' is present in 3 columns"
   ]
  },
  {
   "cell_type": "code",
   "execution_count": 16,
   "id": "16b7687c",
   "metadata": {},
   "outputs": [],
   "source": [
    "#replacing special character '?' with np.nan"
   ]
  },
  {
   "cell_type": "code",
   "execution_count": 17,
   "id": "135eb301",
   "metadata": {},
   "outputs": [],
   "source": [
    "data['native-country'] = data['native-country'].replace('?',np.nan)\n",
    "data['workclass'] = data['workclass'].replace('?',np.nan)\n",
    "data['occupation'] = data['occupation'].replace('?',np.nan)"
   ]
  },
  {
   "cell_type": "code",
   "execution_count": 18,
   "id": "87cbfb1b",
   "metadata": {},
   "outputs": [
    {
     "data": {
      "text/plain": [
       "age               0\n",
       "workclass         0\n",
       "education         0\n",
       "education-num     0\n",
       "marital_status    0\n",
       "occupation        0\n",
       "relationship      0\n",
       "race              0\n",
       "sex               0\n",
       "capital-gain      0\n",
       "capital-loss      0\n",
       "hours_per_week    0\n",
       "native-country    0\n",
       "salary            0\n",
       "dtype: int64"
      ]
     },
     "execution_count": 18,
     "metadata": {},
     "output_type": "execute_result"
    }
   ],
   "source": [
    "data.isin(['?']).sum(axis=0)"
   ]
  },
  {
   "cell_type": "markdown",
   "id": "d2715ab7",
   "metadata": {},
   "source": [
    "# Exploratory Data Analysis"
   ]
  },
  {
   "cell_type": "code",
   "execution_count": 19,
   "id": "d00139ba",
   "metadata": {},
   "outputs": [],
   "source": [
    "#checking for missing values"
   ]
  },
  {
   "cell_type": "code",
   "execution_count": 20,
   "id": "b827c5af",
   "metadata": {},
   "outputs": [
    {
     "data": {
      "text/plain": [
       "<AxesSubplot:>"
      ]
     },
     "execution_count": 20,
     "metadata": {},
     "output_type": "execute_result"
    },
    {
     "data": {
      "image/png": "[encoded data removed]",
      "text/plain": [
       "<Figure size 720x360 with 2 Axes>"
      ]
     },
     "metadata": {
      "needs_background": "light"
     },
     "output_type": "display_data"
    }
   ],
   "source": [
    "plt.subplots(figsize=(10,5))\n",
    "sns.heatmap(data.isnull(),yticklabels=False)"
   ]
  },
  {
   "cell_type": "code",
   "execution_count": 21,
   "id": "23d5a53f",
   "metadata": {},
   "outputs": [],
   "source": [
    "#from the heatmap it is clear that missing values are present  in 3 columns"
   ]
  },
  {
   "cell_type": "code",
   "execution_count": 22,
   "id": "a34c1c8c",
   "metadata": {},
   "outputs": [
    {
     "data": {
      "text/plain": [
       "age                  0\n",
       "workclass         1836\n",
       "education            0\n",
       "education-num        0\n",
       "marital_status       0\n",
       "occupation        1843\n",
       "relationship         0\n",
       "race                 0\n",
       "sex                  0\n",
       "capital-gain         0\n",
       "capital-loss         0\n",
       "hours_per_week       0\n",
       "native-country     583\n",
       "salary               0\n",
       "dtype: int64"
      ]
     },
     "execution_count": 22,
     "metadata": {},
     "output_type": "execute_result"
    }
   ],
   "source": [
    "data.isna().sum() # checking the number of missing values present in workclass, occupation and native-country"
   ]
  },
  {
   "cell_type": "code",
   "execution_count": 23,
   "id": "0ea8f151",
   "metadata": {},
   "outputs": [
    {
     "name": "stdout",
     "output_type": "stream",
     "text": [
      "<class 'pandas.core.frame.DataFrame'>\n",
      "RangeIndex: 32561 entries, 0 to 32560\n",
      "Data columns (total 14 columns):\n",
      " #   Column          Non-Null Count  Dtype \n",
      "---  ------          --------------  ----- \n",
      " 0   age             32561 non-null  int64 \n",
      " 1   workclass       30725 non-null  object\n",
      " 2   education       32561 non-null  object\n",
      " 3   education-num   32561 non-null  int64 \n",
      " 4   marital_status  32561 non-null  object\n",
      " 5   occupation      30718 non-null  object\n",
      " 6   relationship    32561 non-null  object\n",
      " 7   race            32561 non-null  object\n",
      " 8   sex             32561 non-null  object\n",
      " 9   capital-gain    32561 non-null  int64 \n",
      " 10  capital-loss    32561 non-null  int64 \n",
      " 11  hours_per_week  32561 non-null  int64 \n",
      " 12  native-country  31978 non-null  object\n",
      " 13  salary          32561 non-null  object\n",
      "dtypes: int64(5), object(9)\n",
      "memory usage: 3.5+ MB\n"
     ]
    }
   ],
   "source": [
    "data.info()"
   ]
  },
  {
   "cell_type": "code",
   "execution_count": 24,
   "id": "7e61f4bd",
   "metadata": {},
   "outputs": [
    {
     "data": {
      "text/plain": [
       "0    Private\n",
       "Name: workclass, dtype: object"
      ]
     },
     "execution_count": 24,
     "metadata": {},
     "output_type": "execute_result"
    }
   ],
   "source": [
    "data[\"workclass\"].mode() #checking mode of workclass column"
   ]
  },
  {
   "cell_type": "code",
   "execution_count": 25,
   "id": "2e47aebe",
   "metadata": {},
   "outputs": [
    {
     "data": {
      "text/plain": [
       "0    Prof-specialty\n",
       "Name: occupation, dtype: object"
      ]
     },
     "execution_count": 25,
     "metadata": {},
     "output_type": "execute_result"
    }
   ],
   "source": [
    "data[\"occupation\"].mode() #checking mode of occupation column"
   ]
  },
  {
   "cell_type": "code",
   "execution_count": 26,
   "id": "c3c9a781",
   "metadata": {},
   "outputs": [
    {
     "data": {
      "text/plain": [
       "0    United-States\n",
       "Name: native-country, dtype: object"
      ]
     },
     "execution_count": 26,
     "metadata": {},
     "output_type": "execute_result"
    }
   ],
   "source": [
    "data[\"native-country\"].mode() #checking mode of native-country column"
   ]
  },
  {
   "cell_type": "code",
   "execution_count": 27,
   "id": "89fa92a0",
   "metadata": {},
   "outputs": [],
   "source": [
    "#filling missing values with mode of respective columns"
   ]
  },
  {
   "cell_type": "code",
   "execution_count": 28,
   "id": "7647d1a5",
   "metadata": {},
   "outputs": [],
   "source": [
    "data[\"workclass\"]=data[\"workclass\"].fillna(data[\"workclass\"].mode()[0])"
   ]
  },
  {
   "cell_type": "code",
   "execution_count": 29,
   "id": "d046e94c",
   "metadata": {},
   "outputs": [],
   "source": [
    "data[\"occupation\"]=data[\"occupation\"].fillna(data[\"occupation\"].mode()[0])"
   ]
  },
  {
   "cell_type": "code",
   "execution_count": 30,
   "id": "a33bf1a6",
   "metadata": {},
   "outputs": [],
   "source": [
    "data[\"native-country\"]=data[\"native-country\"].fillna(data[\"native-country\"].mode()[0])"
   ]
  },
  {
   "cell_type": "code",
   "execution_count": 31,
   "id": "4c509ad9",
   "metadata": {},
   "outputs": [
    {
     "data": {
      "text/plain": [
       "age               0\n",
       "workclass         0\n",
       "education         0\n",
       "education-num     0\n",
       "marital_status    0\n",
       "occupation        0\n",
       "relationship      0\n",
       "race              0\n",
       "sex               0\n",
       "capital-gain      0\n",
       "capital-loss      0\n",
       "hours_per_week    0\n",
       "native-country    0\n",
       "salary            0\n",
       "dtype: int64"
      ]
     },
     "execution_count": 31,
     "metadata": {},
     "output_type": "execute_result"
    }
   ],
   "source": [
    "data.isna().sum()"
   ]
  },
  {
   "cell_type": "code",
   "execution_count": 32,
   "id": "c5495ada",
   "metadata": {},
   "outputs": [],
   "source": [
    "#checking for duplicates in the dataset"
   ]
  },
  {
   "cell_type": "code",
   "execution_count": 33,
   "id": "6cf8902a",
   "metadata": {},
   "outputs": [
    {
     "data": {
      "text/html": [
       "<div>\n",
       "<style scoped>\n",
       "    .dataframe tbody tr th:only-of-type {\n",
       "        vertical-align: middle;\n",
       "    }\n",
       "\n",
       "    .dataframe tbody tr th {\n",
       "        vertical-align: top;\n",
       "    }\n",
       "\n",
       "    .dataframe thead th {\n",
       "        text-align: right;\n",
       "    }\n",
       "</style>\n",
       "<table border=\"1\" class=\"dataframe\">\n",
       "  <thead>\n",
       "    <tr style=\"text-align: right;\">\n",
       "      <th></th>\n",
       "      <th>age</th>\n",
       "      <th>workclass</th>\n",
       "      <th>education</th>\n",
       "      <th>education-num</th>\n",
       "      <th>marital_status</th>\n",
       "      <th>occupation</th>\n",
       "      <th>relationship</th>\n",
       "      <th>race</th>\n",
       "      <th>sex</th>\n",
       "      <th>capital-gain</th>\n",
       "      <th>capital-loss</th>\n",
       "      <th>hours_per_week</th>\n",
       "      <th>native-country</th>\n",
       "      <th>salary</th>\n",
       "    </tr>\n",
       "  </thead>\n",
       "  <tbody>\n",
       "    <tr>\n",
       "      <th>352</th>\n",
       "      <td>33</td>\n",
       "      <td>Private</td>\n",
       "      <td>Bachelors</td>\n",
       "      <td>13</td>\n",
       "      <td>Married-civ-spouse</td>\n",
       "      <td>Exec-managerial</td>\n",
       "      <td>Husband</td>\n",
       "      <td>White</td>\n",
       "      <td>Male</td>\n",
       "      <td>0</td>\n",
       "      <td>0</td>\n",
       "      <td>40</td>\n",
       "      <td>United-States</td>\n",
       "      <td>&gt;50K</td>\n",
       "    </tr>\n",
       "    <tr>\n",
       "      <th>391</th>\n",
       "      <td>27</td>\n",
       "      <td>Private</td>\n",
       "      <td>Bachelors</td>\n",
       "      <td>13</td>\n",
       "      <td>Never-married</td>\n",
       "      <td>Craft-repair</td>\n",
       "      <td>Not-in-family</td>\n",
       "      <td>White</td>\n",
       "      <td>Male</td>\n",
       "      <td>0</td>\n",
       "      <td>0</td>\n",
       "      <td>50</td>\n",
       "      <td>United-States</td>\n",
       "      <td>&lt;=50K</td>\n",
       "    </tr>\n",
       "    <tr>\n",
       "      <th>563</th>\n",
       "      <td>24</td>\n",
       "      <td>Private</td>\n",
       "      <td>HS-grad</td>\n",
       "      <td>9</td>\n",
       "      <td>Never-married</td>\n",
       "      <td>Handlers-cleaners</td>\n",
       "      <td>Unmarried</td>\n",
       "      <td>Black</td>\n",
       "      <td>Female</td>\n",
       "      <td>0</td>\n",
       "      <td>0</td>\n",
       "      <td>40</td>\n",
       "      <td>United-States</td>\n",
       "      <td>&lt;=50K</td>\n",
       "    </tr>\n",
       "    <tr>\n",
       "      <th>570</th>\n",
       "      <td>24</td>\n",
       "      <td>Private</td>\n",
       "      <td>HS-grad</td>\n",
       "      <td>9</td>\n",
       "      <td>Never-married</td>\n",
       "      <td>Craft-repair</td>\n",
       "      <td>Own-child</td>\n",
       "      <td>White</td>\n",
       "      <td>Male</td>\n",
       "      <td>0</td>\n",
       "      <td>0</td>\n",
       "      <td>40</td>\n",
       "      <td>United-States</td>\n",
       "      <td>&lt;=50K</td>\n",
       "    </tr>\n",
       "    <tr>\n",
       "      <th>673</th>\n",
       "      <td>33</td>\n",
       "      <td>Private</td>\n",
       "      <td>Bachelors</td>\n",
       "      <td>13</td>\n",
       "      <td>Married-civ-spouse</td>\n",
       "      <td>Exec-managerial</td>\n",
       "      <td>Husband</td>\n",
       "      <td>White</td>\n",
       "      <td>Male</td>\n",
       "      <td>0</td>\n",
       "      <td>0</td>\n",
       "      <td>40</td>\n",
       "      <td>United-States</td>\n",
       "      <td>&gt;50K</td>\n",
       "    </tr>\n",
       "    <tr>\n",
       "      <th>...</th>\n",
       "      <td>...</td>\n",
       "      <td>...</td>\n",
       "      <td>...</td>\n",
       "      <td>...</td>\n",
       "      <td>...</td>\n",
       "      <td>...</td>\n",
       "      <td>...</td>\n",
       "      <td>...</td>\n",
       "      <td>...</td>\n",
       "      <td>...</td>\n",
       "      <td>...</td>\n",
       "      <td>...</td>\n",
       "      <td>...</td>\n",
       "      <td>...</td>\n",
       "    </tr>\n",
       "    <tr>\n",
       "      <th>32503</th>\n",
       "      <td>47</td>\n",
       "      <td>Private</td>\n",
       "      <td>HS-grad</td>\n",
       "      <td>9</td>\n",
       "      <td>Married-civ-spouse</td>\n",
       "      <td>Craft-repair</td>\n",
       "      <td>Husband</td>\n",
       "      <td>White</td>\n",
       "      <td>Male</td>\n",
       "      <td>0</td>\n",
       "      <td>0</td>\n",
       "      <td>40</td>\n",
       "      <td>United-States</td>\n",
       "      <td>&lt;=50K</td>\n",
       "    </tr>\n",
       "    <tr>\n",
       "      <th>32512</th>\n",
       "      <td>20</td>\n",
       "      <td>Private</td>\n",
       "      <td>HS-grad</td>\n",
       "      <td>9</td>\n",
       "      <td>Never-married</td>\n",
       "      <td>Machine-op-inspct</td>\n",
       "      <td>Own-child</td>\n",
       "      <td>White</td>\n",
       "      <td>Male</td>\n",
       "      <td>0</td>\n",
       "      <td>0</td>\n",
       "      <td>40</td>\n",
       "      <td>United-States</td>\n",
       "      <td>&lt;=50K</td>\n",
       "    </tr>\n",
       "    <tr>\n",
       "      <th>32527</th>\n",
       "      <td>22</td>\n",
       "      <td>Private</td>\n",
       "      <td>Some-college</td>\n",
       "      <td>10</td>\n",
       "      <td>Never-married</td>\n",
       "      <td>Adm-clerical</td>\n",
       "      <td>Own-child</td>\n",
       "      <td>White</td>\n",
       "      <td>Male</td>\n",
       "      <td>0</td>\n",
       "      <td>0</td>\n",
       "      <td>40</td>\n",
       "      <td>United-States</td>\n",
       "      <td>&lt;=50K</td>\n",
       "    </tr>\n",
       "    <tr>\n",
       "      <th>32557</th>\n",
       "      <td>40</td>\n",
       "      <td>Private</td>\n",
       "      <td>HS-grad</td>\n",
       "      <td>9</td>\n",
       "      <td>Married-civ-spouse</td>\n",
       "      <td>Machine-op-inspct</td>\n",
       "      <td>Husband</td>\n",
       "      <td>White</td>\n",
       "      <td>Male</td>\n",
       "      <td>0</td>\n",
       "      <td>0</td>\n",
       "      <td>40</td>\n",
       "      <td>United-States</td>\n",
       "      <td>&gt;50K</td>\n",
       "    </tr>\n",
       "    <tr>\n",
       "      <th>32559</th>\n",
       "      <td>22</td>\n",
       "      <td>Private</td>\n",
       "      <td>HS-grad</td>\n",
       "      <td>9</td>\n",
       "      <td>Never-married</td>\n",
       "      <td>Adm-clerical</td>\n",
       "      <td>Own-child</td>\n",
       "      <td>White</td>\n",
       "      <td>Male</td>\n",
       "      <td>0</td>\n",
       "      <td>0</td>\n",
       "      <td>20</td>\n",
       "      <td>United-States</td>\n",
       "      <td>&lt;=50K</td>\n",
       "    </tr>\n",
       "  </tbody>\n",
       "</table>\n",
       "<p>3591 rows × 14 columns</p>\n",
       "</div>"
      ],
      "text/plain": [
       "       age workclass     education  education-num      marital_status  \\\n",
       "352     33   Private     Bachelors             13  Married-civ-spouse   \n",
       "391     27   Private     Bachelors             13       Never-married   \n",
       "563     24   Private       HS-grad              9       Never-married   \n",
       "570     24   Private       HS-grad              9       Never-married   \n",
       "673     33   Private     Bachelors             13  Married-civ-spouse   \n",
       "...    ...       ...           ...            ...                 ...   \n",
       "32503   47   Private       HS-grad              9  Married-civ-spouse   \n",
       "32512   20   Private       HS-grad              9       Never-married   \n",
       "32527   22   Private  Some-college             10       Never-married   \n",
       "32557   40   Private       HS-grad              9  Married-civ-spouse   \n",
       "32559   22   Private       HS-grad              9       Never-married   \n",
       "\n",
       "              occupation   relationship   race     sex  capital-gain  \\\n",
       "352      Exec-managerial        Husband  White    Male             0   \n",
       "391         Craft-repair  Not-in-family  White    Male             0   \n",
       "563    Handlers-cleaners      Unmarried  Black  Female             0   \n",
       "570         Craft-repair      Own-child  White    Male             0   \n",
       "673      Exec-managerial        Husband  White    Male             0   \n",
       "...                  ...            ...    ...     ...           ...   \n",
       "32503       Craft-repair        Husband  White    Male             0   \n",
       "32512  Machine-op-inspct      Own-child  White    Male             0   \n",
       "32527       Adm-clerical      Own-child  White    Male             0   \n",
       "32557  Machine-op-inspct        Husband  White    Male             0   \n",
       "32559       Adm-clerical      Own-child  White    Male             0   \n",
       "\n",
       "       capital-loss  hours_per_week native-country salary  \n",
       "352               0              40  United-States   >50K  \n",
       "391               0              50  United-States  <=50K  \n",
       "563               0              40  United-States  <=50K  \n",
       "570               0              40  United-States  <=50K  \n",
       "673               0              40  United-States   >50K  \n",
       "...             ...             ...            ...    ...  \n",
       "32503             0              40  United-States  <=50K  \n",
       "32512             0              40  United-States  <=50K  \n",
       "32527             0              40  United-States  <=50K  \n",
       "32557             0              40  United-States   >50K  \n",
       "32559             0              20  United-States  <=50K  \n",
       "\n",
       "[3591 rows x 14 columns]"
      ]
     },
     "execution_count": 33,
     "metadata": {},
     "output_type": "execute_result"
    }
   ],
   "source": [
    "data[data.duplicated()]"
   ]
  },
  {
   "cell_type": "markdown",
   "id": "83a791c5",
   "metadata": {},
   "source": [
    "Correlation Matrix"
   ]
  },
  {
   "cell_type": "code",
   "execution_count": 34,
   "id": "1534bc6f",
   "metadata": {},
   "outputs": [
    {
     "data": {
      "text/plain": [
       "<AxesSubplot:>"
      ]
     },
     "execution_count": 34,
     "metadata": {},
     "output_type": "execute_result"
    },
    {
     "data": {
      "image/png": "[encoded data removed]",
      "text/plain": [
       "<Figure size 1440x576 with 2 Axes>"
      ]
     },
     "metadata": {
      "needs_background": "light"
     },
     "output_type": "display_data"
    }
   ],
   "source": [
    "corrmatrix=data.corr()#correlation matrix\n",
    "plt.subplots(figsize=(20,8))\n",
    "sns.heatmap(corrmatrix,linewidth=0.2,annot=True)"
   ]
  },
  {
   "cell_type": "markdown",
   "id": "e8e12f4a",
   "metadata": {},
   "source": [
    "Outlier-Handling"
   ]
  },
  {
   "cell_type": "code",
   "execution_count": 35,
   "id": "00fdc36b",
   "metadata": {},
   "outputs": [],
   "source": [
    "#checking for ouliers in numerical columns using Boxplot"
   ]
  },
  {
   "cell_type": "code",
   "execution_count": 36,
   "id": "1d5469a3",
   "metadata": {},
   "outputs": [
    {
     "data": {
      "image/png": "[encoded data removed]",
      "text/plain": [
       "<Figure size 1296x1728 with 32 Axes>"
      ]
     },
     "metadata": {
      "needs_background": "light"
     },
     "output_type": "display_data"
    }
   ],
   "source": [
    "data.plot(kind='box',subplots=True,layout=(8,4),figsize=(18,24));"
   ]
  },
  {
   "cell_type": "code",
   "execution_count": 37,
   "id": "545ea1b5",
   "metadata": {},
   "outputs": [],
   "source": [
    "#outlier Clipping"
   ]
  },
  {
   "cell_type": "code",
   "execution_count": 38,
   "id": "8508feaf",
   "metadata": {},
   "outputs": [],
   "source": [
    "Q1=data[\"age\"].quantile(0.25)\n",
    "Q3=data[\"age\"].quantile(0.75)\n",
    "IQR=Q3-Q1\n",
    "lower_whisker=Q1-1.5*IQR\n",
    "Upper_whisker=Q3+1.5*IQR\n",
    "\n",
    "data[\"age\"]=np.clip(data[\"age\"],lower_whisker,Upper_whisker)"
   ]
  },
  {
   "cell_type": "code",
   "execution_count": 39,
   "id": "2d16d4fa",
   "metadata": {},
   "outputs": [],
   "source": [
    "#checking whether the outlier is removed or not"
   ]
  },
  {
   "cell_type": "code",
   "execution_count": 40,
   "id": "cde1a142",
   "metadata": {},
   "outputs": [
    {
     "data": {
      "image/png": "[encoded data removed]",
      "text/plain": [
       "<Figure size 432x288 with 1 Axes>"
      ]
     },
     "metadata": {
      "needs_background": "light"
     },
     "output_type": "display_data"
    }
   ],
   "source": [
    "plt.boxplot(x=data[\"age\"])\n",
    "plt.show()"
   ]
  },
  {
   "cell_type": "code",
   "execution_count": 41,
   "id": "2fa00c99",
   "metadata": {},
   "outputs": [],
   "source": [
    "#rest of the columns are having genuiene outliers"
   ]
  },
  {
   "cell_type": "code",
   "execution_count": 42,
   "id": "eb8f9bcc",
   "metadata": {},
   "outputs": [],
   "source": [
    "#data['marital_status'].unique()"
   ]
  },
  {
   "cell_type": "code",
   "execution_count": 43,
   "id": "1b4d2e6d",
   "metadata": {},
   "outputs": [],
   "source": [
    "#data['marital_status'].replace(['Married-AF-spouse','Married-civ-spouse','Married-spouse-absent'], ['married','married','married'],inplace=True)"
   ]
  },
  {
   "cell_type": "code",
   "execution_count": 44,
   "id": "8d17f129",
   "metadata": {},
   "outputs": [],
   "source": [
    "#data['marital_status'].value_counts()"
   ]
  },
  {
   "cell_type": "markdown",
   "id": "9b312e6b",
   "metadata": {},
   "source": [
    "Feature-Reduction"
   ]
  },
  {
   "cell_type": "code",
   "execution_count": 45,
   "id": "8c59e7f2",
   "metadata": {},
   "outputs": [],
   "source": [
    "#drop columns that doesnot contribute much to the model"
   ]
  },
  {
   "cell_type": "code",
   "execution_count": 46,
   "id": "8aab7169",
   "metadata": {},
   "outputs": [
    {
     "name": "stdout",
     "output_type": "stream",
     "text": [
      "['Bachelors' 'HS-grad' '11th' 'Masters' '9th' 'Some-college' 'Assoc-acdm'\n",
      " 'Assoc-voc' '7th-8th' 'Doctorate' 'Prof-school' '5th-6th' '10th'\n",
      " '1st-4th' 'Preschool' '12th']\n",
      "[13  9  7 14  5 10 12 11  4 16 15  3  6  2  1  8]\n"
     ]
    }
   ],
   "source": [
    "for i in data[[\"education\",\"education-num\"]]:\n",
    "        print (data[i].unique())"
   ]
  },
  {
   "cell_type": "code",
   "execution_count": 47,
   "id": "d0b62ab7",
   "metadata": {},
   "outputs": [
    {
     "data": {
      "text/html": [
       "<div>\n",
       "<style scoped>\n",
       "    .dataframe tbody tr th:only-of-type {\n",
       "        vertical-align: middle;\n",
       "    }\n",
       "\n",
       "    .dataframe tbody tr th {\n",
       "        vertical-align: top;\n",
       "    }\n",
       "\n",
       "    .dataframe thead th {\n",
       "        text-align: right;\n",
       "    }\n",
       "</style>\n",
       "<table border=\"1\" class=\"dataframe\">\n",
       "  <thead>\n",
       "    <tr style=\"text-align: right;\">\n",
       "      <th></th>\n",
       "      <th>education</th>\n",
       "      <th>education-num</th>\n",
       "    </tr>\n",
       "  </thead>\n",
       "  <tbody>\n",
       "    <tr>\n",
       "      <th>0</th>\n",
       "      <td>Bachelors</td>\n",
       "      <td>13</td>\n",
       "    </tr>\n",
       "    <tr>\n",
       "      <th>1</th>\n",
       "      <td>Bachelors</td>\n",
       "      <td>13</td>\n",
       "    </tr>\n",
       "    <tr>\n",
       "      <th>2</th>\n",
       "      <td>HS-grad</td>\n",
       "      <td>9</td>\n",
       "    </tr>\n",
       "    <tr>\n",
       "      <th>3</th>\n",
       "      <td>11th</td>\n",
       "      <td>7</td>\n",
       "    </tr>\n",
       "    <tr>\n",
       "      <th>4</th>\n",
       "      <td>Bachelors</td>\n",
       "      <td>13</td>\n",
       "    </tr>\n",
       "    <tr>\n",
       "      <th>...</th>\n",
       "      <td>...</td>\n",
       "      <td>...</td>\n",
       "    </tr>\n",
       "    <tr>\n",
       "      <th>32556</th>\n",
       "      <td>Assoc-acdm</td>\n",
       "      <td>12</td>\n",
       "    </tr>\n",
       "    <tr>\n",
       "      <th>32557</th>\n",
       "      <td>HS-grad</td>\n",
       "      <td>9</td>\n",
       "    </tr>\n",
       "    <tr>\n",
       "      <th>32558</th>\n",
       "      <td>HS-grad</td>\n",
       "      <td>9</td>\n",
       "    </tr>\n",
       "    <tr>\n",
       "      <th>32559</th>\n",
       "      <td>HS-grad</td>\n",
       "      <td>9</td>\n",
       "    </tr>\n",
       "    <tr>\n",
       "      <th>32560</th>\n",
       "      <td>HS-grad</td>\n",
       "      <td>9</td>\n",
       "    </tr>\n",
       "  </tbody>\n",
       "</table>\n",
       "<p>32561 rows × 2 columns</p>\n",
       "</div>"
      ],
      "text/plain": [
       "        education  education-num\n",
       "0       Bachelors             13\n",
       "1       Bachelors             13\n",
       "2         HS-grad              9\n",
       "3            11th              7\n",
       "4       Bachelors             13\n",
       "...           ...            ...\n",
       "32556  Assoc-acdm             12\n",
       "32557     HS-grad              9\n",
       "32558     HS-grad              9\n",
       "32559     HS-grad              9\n",
       "32560     HS-grad              9\n",
       "\n",
       "[32561 rows x 2 columns]"
      ]
     },
     "execution_count": 47,
     "metadata": {},
     "output_type": "execute_result"
    }
   ],
   "source": [
    "data[[\"education\",\"education-num\"]]"
   ]
  },
  {
   "cell_type": "code",
   "execution_count": 48,
   "id": "b9c1465c",
   "metadata": {},
   "outputs": [],
   "source": [
    "data.drop([\"education-num\",\"capital-loss\",\"capital-gain\"],axis=1,inplace=True)"
   ]
  },
  {
   "cell_type": "code",
   "execution_count": 49,
   "id": "c2b1805f",
   "metadata": {},
   "outputs": [
    {
     "data": {
      "text/plain": [
       "(32561, 11)"
      ]
     },
     "execution_count": 49,
     "metadata": {},
     "output_type": "execute_result"
    }
   ],
   "source": [
    "data.shape"
   ]
  },
  {
   "cell_type": "code",
   "execution_count": 50,
   "id": "fee4cbaf",
   "metadata": {},
   "outputs": [
    {
     "name": "stdout",
     "output_type": "stream",
     "text": [
      "<class 'pandas.core.frame.DataFrame'>\n",
      "RangeIndex: 32561 entries, 0 to 32560\n",
      "Data columns (total 11 columns):\n",
      " #   Column          Non-Null Count  Dtype  \n",
      "---  ------          --------------  -----  \n",
      " 0   age             32561 non-null  float64\n",
      " 1   workclass       32561 non-null  object \n",
      " 2   education       32561 non-null  object \n",
      " 3   marital_status  32561 non-null  object \n",
      " 4   occupation      32561 non-null  object \n",
      " 5   relationship    32561 non-null  object \n",
      " 6   race            32561 non-null  object \n",
      " 7   sex             32561 non-null  object \n",
      " 8   hours_per_week  32561 non-null  int64  \n",
      " 9   native-country  32561 non-null  object \n",
      " 10  salary          32561 non-null  object \n",
      "dtypes: float64(1), int64(1), object(9)\n",
      "memory usage: 2.7+ MB\n"
     ]
    }
   ],
   "source": [
    "data.info()"
   ]
  },
  {
   "cell_type": "markdown",
   "id": "b12f2c8b",
   "metadata": {},
   "source": [
    "# Data visualization"
   ]
  },
  {
   "cell_type": "markdown",
   "id": "d7c0072e",
   "metadata": {},
   "source": [
    "Uni-variate Analysis"
   ]
  },
  {
   "cell_type": "code",
   "execution_count": 51,
   "id": "587435f5",
   "metadata": {},
   "outputs": [
    {
     "data": {
      "image/png": "[encoded data removed]",
      "text/plain": [
       "<Figure size 432x288 with 1 Axes>"
      ]
     },
     "metadata": {
      "needs_background": "light"
     },
     "output_type": "display_data"
    }
   ],
   "source": [
    "sns.countplot(x=data[\"salary\"])\n",
    "plt.title(\"salary Distribution\")\n",
    "plt.show()"
   ]
  },
  {
   "cell_type": "code",
   "execution_count": 52,
   "id": "a7fc371b",
   "metadata": {},
   "outputs": [],
   "source": [
    "#majority of people are having salaries less than 50K\n",
    "#less than 10000 people are having salaries greater than 50K"
   ]
  },
  {
   "cell_type": "code",
   "execution_count": 53,
   "id": "0c75abb6",
   "metadata": {},
   "outputs": [
    {
     "data": {
      "image/png": "[encoded data removed]",
      "text/plain": [
       "<Figure size 432x288 with 1 Axes>"
      ]
     },
     "metadata": {
      "needs_background": "light"
     },
     "output_type": "display_data"
    }
   ],
   "source": [
    "plt.hist(x=data[\"age\"])\n",
    "plt.title(\"count of Age\")\n",
    "#plt.xticks(rotation=45)\n",
    "plt.grid()\n",
    "plt.show()"
   ]
  },
  {
   "cell_type": "code",
   "execution_count": 54,
   "id": "cc7b7c17",
   "metadata": {},
   "outputs": [],
   "source": [
    "#people within the age groups 25-35 are having highest salaries"
   ]
  },
  {
   "cell_type": "code",
   "execution_count": 55,
   "id": "6fc614f5",
   "metadata": {},
   "outputs": [
    {
     "data": {
      "image/png": "[encoded data removed]",
      "text/plain": [
       "<Figure size 432x288 with 1 Axes>"
      ]
     },
     "metadata": {
      "needs_background": "light"
     },
     "output_type": "display_data"
    }
   ],
   "source": [
    "sns.countplot(x=data[\"marital_status\"])\n",
    "plt.title(\"count of various marital statuses\")\n",
    "plt.xticks(rotation=90)\n",
    "plt.show()"
   ]
  },
  {
   "cell_type": "code",
   "execution_count": 56,
   "id": "9a894b09",
   "metadata": {},
   "outputs": [],
   "source": [
    "#about majority of people are married "
   ]
  },
  {
   "cell_type": "code",
   "execution_count": 57,
   "id": "d203d8ea",
   "metadata": {},
   "outputs": [
    {
     "data": {
      "image/png": "[encoded data removed]",
      "text/plain": [
       "<Figure size 432x288 with 1 Axes>"
      ]
     },
     "metadata": {
      "needs_background": "light"
     },
     "output_type": "display_data"
    }
   ],
   "source": [
    "sns.countplot(x=data[\"education\"])\n",
    "plt.title(\"count of people with various educational qualifications\")\n",
    "plt.xticks(rotation=90)\n",
    "plt.show()"
   ]
  },
  {
   "cell_type": "code",
   "execution_count": 58,
   "id": "f49b22e3",
   "metadata": {},
   "outputs": [],
   "source": [
    "#among the working people majority of people have completed  hs-graduation\n",
    "#less than 8000 people are having some college degree\n",
    "#less than 6000 people are having a bachelors degree"
   ]
  },
  {
   "cell_type": "code",
   "execution_count": 59,
   "id": "19043d16",
   "metadata": {},
   "outputs": [
    {
     "data": {
      "image/png": "[encoded data removed]",
      "text/plain": [
       "<Figure size 432x288 with 1 Axes>"
      ]
     },
     "metadata": {
      "needs_background": "light"
     },
     "output_type": "display_data"
    }
   ],
   "source": [
    "sns.countplot(x=data[\"sex\"])\n",
    "plt.title(\"count of various genders\")\n",
    "plt.show()"
   ]
  },
  {
   "cell_type": "code",
   "execution_count": 60,
   "id": "82b032d8",
   "metadata": {},
   "outputs": [],
   "source": [
    "#around 25000 are males and 10000 are feamles"
   ]
  },
  {
   "cell_type": "code",
   "execution_count": 61,
   "id": "7e9bbdfa",
   "metadata": {},
   "outputs": [
    {
     "data": {
      "image/png": "[encoded data removed]",
      "text/plain": [
       "<Figure size 432x288 with 1 Axes>"
      ]
     },
     "metadata": {
      "needs_background": "light"
     },
     "output_type": "display_data"
    }
   ],
   "source": [
    "sns.countplot(x=data['occupation'])\n",
    "plt.title(\"count of people with various occupation\")\n",
    "plt.xticks(rotation=90)\n",
    "plt.show()"
   ]
  },
  {
   "cell_type": "code",
   "execution_count": 62,
   "id": "7f03b556",
   "metadata": {},
   "outputs": [
    {
     "data": {
      "image/png": "[encoded data removed]",
      "text/plain": [
       "<Figure size 432x288 with 1 Axes>"
      ]
     },
     "metadata": {
      "needs_background": "light"
     },
     "output_type": "display_data"
    }
   ],
   "source": [
    "sns.histplot(x=data['workclass'])\n",
    "plt.title(\"people belonging to various workclass\")\n",
    "plt.xticks(rotation=90)\n",
    "plt.show()"
   ]
  },
  {
   "cell_type": "code",
   "execution_count": 63,
   "id": "b7721069",
   "metadata": {},
   "outputs": [],
   "source": [
    "# majority of the people are employed privately"
   ]
  },
  {
   "cell_type": "code",
   "execution_count": 64,
   "id": "33a387b8",
   "metadata": {},
   "outputs": [
    {
     "data": {
      "text/plain": [
       "<function matplotlib.pyplot.title(label, fontdict=None, loc=None, pad=None, *, y=None, **kwargs)>"
      ]
     },
     "execution_count": 64,
     "metadata": {},
     "output_type": "execute_result"
    },
    {
     "data": {
      "image/png": "[encoded data removed]",
      "text/plain": [
       "<Figure size 432x288 with 1 Axes>"
      ]
     },
     "metadata": {
      "needs_background": "light"
     },
     "output_type": "display_data"
    }
   ],
   "source": [
    "sns.histplot(x=data[\"native-country\"])\n",
    "plt.title(\"count of people belonging to different countries\")\n",
    "plt.xticks(rotation=90)\n",
    "plt.title"
   ]
  },
  {
   "cell_type": "code",
   "execution_count": 65,
   "id": "de5b2415",
   "metadata": {},
   "outputs": [],
   "source": [
    "#90% of people have us citizenship\n",
    "#rest of the people are having mexican and philipino citizenship"
   ]
  },
  {
   "cell_type": "code",
   "execution_count": 66,
   "id": "092a43bf",
   "metadata": {
    "scrolled": true
   },
   "outputs": [
    {
     "data": {
      "image/png": "[encoded data removed]",
      "text/plain": [
       "<Figure size 432x288 with 1 Axes>"
      ]
     },
     "metadata": {
      "needs_background": "light"
     },
     "output_type": "display_data"
    }
   ],
   "source": [
    "sns.countplot(x=data[\"race\"])\n",
    "plt.title(\"count of people with different race\")\n",
    "plt.xticks(rotation=45)\n",
    "plt.show()"
   ]
  },
  {
   "cell_type": "code",
   "execution_count": 67,
   "id": "e3ab9705",
   "metadata": {},
   "outputs": [],
   "source": [
    "#90% of people are whites"
   ]
  },
  {
   "cell_type": "code",
   "execution_count": 68,
   "id": "dda30aa2",
   "metadata": {},
   "outputs": [
    {
     "data": {
      "image/png": "[encoded data removed]",
      "text/plain": [
       "<Figure size 432x288 with 1 Axes>"
      ]
     },
     "metadata": {
      "needs_background": "light"
     },
     "output_type": "display_data"
    }
   ],
   "source": [
    "plt.hist(x=data[\"hours_per_week\"])\n",
    "plt.title(\"count of  working hours per week\")\n",
    "plt.grid()\n",
    "plt.show()"
   ]
  },
  {
   "cell_type": "code",
   "execution_count": 69,
   "id": "d3486e42",
   "metadata": {},
   "outputs": [],
   "source": [
    "#minimum hours per week is 1 and maximum is 90"
   ]
  },
  {
   "cell_type": "markdown",
   "id": "e1d3adae",
   "metadata": {},
   "source": [
    "Bi-Variate Analysis"
   ]
  },
  {
   "cell_type": "code",
   "execution_count": 70,
   "id": "0e1636fd",
   "metadata": {},
   "outputs": [
    {
     "data": {
      "image/png": "[encoded data removed]",
      "text/plain": [
       "<Figure size 720x288 with 1 Axes>"
      ]
     },
     "metadata": {
      "needs_background": "light"
     },
     "output_type": "display_data"
    }
   ],
   "source": [
    "plt.figure(figsize=(10,4))\n",
    "sns.barplot(x='salary',y='age',data=data)\n",
    "#plt.xticks(rotation=45)\n",
    "plt.show()"
   ]
  },
  {
   "cell_type": "code",
   "execution_count": 71,
   "id": "918da346",
   "metadata": {},
   "outputs": [
    {
     "data": {
      "image/png": "[encoded data removed]",
      "text/plain": [
       "<Figure size 720x288 with 1 Axes>"
      ]
     },
     "metadata": {
      "needs_background": "light"
     },
     "output_type": "display_data"
    }
   ],
   "source": [
    "plt.figure(figsize=(10,4))\n",
    "sns.barplot(x='salary',y='hours_per_week',data=data)\n",
    "#plt.xticks(rotation=45)\n",
    "plt.show()"
   ]
  },
  {
   "cell_type": "code",
   "execution_count": 72,
   "id": "987415ce",
   "metadata": {},
   "outputs": [],
   "source": [
    "#people having salaries greater than 50K works for more than 40hrs per week\n",
    "#people with salaries less than 50K works less than 40hrs per week"
   ]
  },
  {
   "cell_type": "code",
   "execution_count": 73,
   "id": "406a5aa2",
   "metadata": {},
   "outputs": [
    {
     "data": {
      "image/png": "[encoded data removed]",
      "text/plain": [
       "<Figure size 432x288 with 1 Axes>"
      ]
     },
     "metadata": {
      "needs_background": "light"
     },
     "output_type": "display_data"
    }
   ],
   "source": [
    "sns.countplot(x=data[\"workclass\"],hue=data[\"salary\"],data=data)\n",
    "plt.title(\"salary for each workclass\")\n",
    "plt.xticks(rotation=90)\n",
    "plt.show()"
   ]
  },
  {
   "cell_type": "code",
   "execution_count": 74,
   "id": "6c3a51e3",
   "metadata": {},
   "outputs": [
    {
     "data": {
      "image/png": "[encoded data removed]",
      "text/plain": [
       "<Figure size 432x288 with 1 Axes>"
      ]
     },
     "metadata": {
      "needs_background": "light"
     },
     "output_type": "display_data"
    }
   ],
   "source": [
    "sns.countplot(x=data[\"education\"],hue=data[\"salary\"],data=data)\n",
    "plt.title(\"salary with respect to education\")\n",
    "plt.xticks(rotation=90)\n",
    "plt.show()"
   ]
  },
  {
   "cell_type": "code",
   "execution_count": 75,
   "id": "6c1df101",
   "metadata": {},
   "outputs": [
    {
     "data": {
      "image/png": "[encoded data removed]",
      "text/plain": [
       "<Figure size 432x288 with 1 Axes>"
      ]
     },
     "metadata": {
      "needs_background": "light"
     },
     "output_type": "display_data"
    }
   ],
   "source": [
    "sns.countplot(x=data[\"occupation\"],hue=data[\"salary\"],data=data)\n",
    "plt.title(\"salary with respect to occupation\")\n",
    "plt.xticks(rotation=90)\n",
    "plt.show()"
   ]
  },
  {
   "cell_type": "code",
   "execution_count": 76,
   "id": "29d2b910",
   "metadata": {},
   "outputs": [
    {
     "data": {
      "image/png": "[encoded data removed]",
      "text/plain": [
       "<Figure size 432x288 with 1 Axes>"
      ]
     },
     "metadata": {
      "needs_background": "light"
     },
     "output_type": "display_data"
    }
   ],
   "source": [
    "sns.countplot(x=data[\"marital_status\"],hue=data[\"salary\"],data=data)\n",
    "plt.title(\"marital status\")\n",
    "plt.xticks(rotation=90)\n",
    "plt.show()"
   ]
  },
  {
   "cell_type": "code",
   "execution_count": 77,
   "id": "dcdeec2f",
   "metadata": {},
   "outputs": [
    {
     "data": {
      "image/png": "[encoded data removed]",
      "text/plain": [
       "<Figure size 432x288 with 1 Axes>"
      ]
     },
     "metadata": {
      "needs_background": "light"
     },
     "output_type": "display_data"
    }
   ],
   "source": [
    "sns.countplot(x=data[\"sex\"],hue=data[\"salary\"],data=data)\n",
    "plt.title(\"salary obtained by different genders\")\n",
    "plt.xticks(rotation=90)\n",
    "plt.show()"
   ]
  },
  {
   "cell_type": "code",
   "execution_count": 78,
   "id": "e68011e1",
   "metadata": {},
   "outputs": [
    {
     "data": {
      "image/png": "[encoded data removed]",
      "text/plain": [
       "<Figure size 432x288 with 1 Axes>"
      ]
     },
     "metadata": {
      "needs_background": "light"
     },
     "output_type": "display_data"
    }
   ],
   "source": [
    "sns.countplot(x=data[\"race\"],hue=data[\"salary\"],data=data)\n",
    "plt.title(\"salary obtained by people belonging to different races\")\n",
    "plt.xticks(rotation=90)\n",
    "plt.show()"
   ]
  },
  {
   "cell_type": "code",
   "execution_count": 79,
   "id": "67e7e3b7",
   "metadata": {},
   "outputs": [
    {
     "data": {
      "image/png": "[encoded data removed]",
      "text/plain": [
       "<Figure size 432x288 with 1 Axes>"
      ]
     },
     "metadata": {
      "needs_background": "light"
     },
     "output_type": "display_data"
    }
   ],
   "source": [
    "sns.countplot(x=data[\"native-country\"],hue=data[\"salary\"],data=data)\n",
    "plt.title(\"salary obatined by people from different countries\")\n",
    "plt.xticks(rotation=90)\n",
    "plt.show()"
   ]
  },
  {
   "cell_type": "markdown",
   "id": "8bf4309d",
   "metadata": {},
   "source": [
    "Multi-Variate Analysis"
   ]
  },
  {
   "cell_type": "code",
   "execution_count": 80,
   "id": "071950c8",
   "metadata": {},
   "outputs": [
    {
     "data": {
      "image/png": "[encoded data removed]",
      "text/plain": [
       "<Figure size 720x360 with 1 Axes>"
      ]
     },
     "metadata": {
      "needs_background": "light"
     },
     "output_type": "display_data"
    }
   ],
   "source": [
    "plt.figure(figsize=(10,5))\n",
    "sns.barplot(y=data['age'],x=data['workclass'],hue=data['salary'])\n",
    "plt.xticks(rotation=90)\n",
    "plt.grid()"
   ]
  },
  {
   "cell_type": "code",
   "execution_count": 81,
   "id": "46fa0dea",
   "metadata": {},
   "outputs": [],
   "source": [
    "#people who are self employed , having salary greater than 50k and are below the age of 50"
   ]
  },
  {
   "cell_type": "code",
   "execution_count": 82,
   "id": "7c0a8af9",
   "metadata": {},
   "outputs": [
    {
     "data": {
      "image/png": "[encoded data removed]",
      "text/plain": [
       "<Figure size 720x360 with 1 Axes>"
      ]
     },
     "metadata": {
      "needs_background": "light"
     },
     "output_type": "display_data"
    }
   ],
   "source": [
    "plt.figure(figsize=(10,5))\n",
    "sns.barplot(y=data['age'],x=data['education'],hue=data['salary'])\n",
    "plt.xticks(rotation=90)\n",
    "plt.grid()"
   ]
  },
  {
   "cell_type": "code",
   "execution_count": 83,
   "id": "68237787",
   "metadata": {},
   "outputs": [],
   "source": [
    "#people with salary greater than 50k are having an eduaction qualification of 7th-8th and 1st-4th\n",
    "# these people are having age above 50"
   ]
  },
  {
   "cell_type": "code",
   "execution_count": 84,
   "id": "38d896bb",
   "metadata": {},
   "outputs": [],
   "source": [
    "#people with salary greater than 50k are employed with state-gov and having education-num greater than12"
   ]
  },
  {
   "cell_type": "code",
   "execution_count": 85,
   "id": "932eba53",
   "metadata": {},
   "outputs": [
    {
     "data": {
      "image/png": "[encoded data removed]",
      "text/plain": [
       "<Figure size 720x360 with 1 Axes>"
      ]
     },
     "metadata": {
      "needs_background": "light"
     },
     "output_type": "display_data"
    }
   ],
   "source": [
    "plt.figure(figsize=(10,5))\n",
    "sns.barplot(x=data['occupation'],y=data['hours_per_week'],hue=data['salary'])\n",
    "plt.xticks(rotation=90)\n",
    "plt.grid()"
   ]
  },
  {
   "cell_type": "code",
   "execution_count": 86,
   "id": "f373ba97",
   "metadata": {},
   "outputs": [],
   "source": [
    "# majority of people with salary greater than 50k is occupied in farming and fishing sector and works for more than 50 hrs per week"
   ]
  },
  {
   "cell_type": "code",
   "execution_count": 87,
   "id": "df710929",
   "metadata": {},
   "outputs": [
    {
     "data": {
      "image/png": "[encoded data removed]",
      "text/plain": [
       "<Figure size 720x360 with 1 Axes>"
      ]
     },
     "metadata": {
      "needs_background": "light"
     },
     "output_type": "display_data"
    }
   ],
   "source": [
    "plt.figure(figsize=(10,5))\n",
    "sns.barplot(y=data['age'],x=data['sex'],hue=data['salary'])\n",
    "plt.xticks(rotation=90)\n",
    "plt.grid()"
   ]
  },
  {
   "cell_type": "code",
   "execution_count": 88,
   "id": "4dd1bf5f",
   "metadata": {},
   "outputs": [],
   "source": [
    "#males with age greater than 40 are having salaries greater than 50k"
   ]
  },
  {
   "cell_type": "code",
   "execution_count": 89,
   "id": "a428d0e4",
   "metadata": {
    "scrolled": true
   },
   "outputs": [
    {
     "data": {
      "image/png": "[encoded data removed]",
      "text/plain": [
       "<Figure size 720x360 with 1 Axes>"
      ]
     },
     "metadata": {
      "needs_background": "light"
     },
     "output_type": "display_data"
    }
   ],
   "source": [
    "plt.figure(figsize=(10,5))\n",
    "sns.barplot(y=data['age'],x=data['race'],hue=data['salary'])\n",
    "plt.xticks(rotation=90)\n",
    "plt.grid()"
   ]
  },
  {
   "cell_type": "code",
   "execution_count": 90,
   "id": "a0b4f853",
   "metadata": {},
   "outputs": [],
   "source": [
    "#majority of white people in the age 50 is having salaries greater than 50k"
   ]
  },
  {
   "cell_type": "code",
   "execution_count": 91,
   "id": "904d4c43",
   "metadata": {},
   "outputs": [
    {
     "data": {
      "image/png": "[encoded data removed]",
      "text/plain": [
       "<Figure size 720x360 with 1 Axes>"
      ]
     },
     "metadata": {
      "needs_background": "light"
     },
     "output_type": "display_data"
    }
   ],
   "source": [
    "plt.figure(figsize=(10,5))\n",
    "sns.barplot(y=data['age'],x=data['occupation'],hue=data['salary'])\n",
    "plt.xticks(rotation=90)\n",
    "plt.grid()"
   ]
  },
  {
   "cell_type": "code",
   "execution_count": 92,
   "id": "3813490c",
   "metadata": {},
   "outputs": [],
   "source": [
    "#people with income >50k are privately employed,married, males ,people having US citizenship,whites and occupation is excecutive manager "
   ]
  },
  {
   "cell_type": "code",
   "execution_count": 93,
   "id": "7e9a3570",
   "metadata": {},
   "outputs": [],
   "source": [
    "#replacing salary <=50k with 0 and >=50k with 1"
   ]
  },
  {
   "cell_type": "code",
   "execution_count": 94,
   "id": "55b45e16",
   "metadata": {},
   "outputs": [],
   "source": [
    "data['salary']=data['salary'].replace(to_replace=('<=50K'), value=0)\n",
    "data['salary']=data['salary'].replace(to_replace=('>50K'), value=1)"
   ]
  },
  {
   "cell_type": "code",
   "execution_count": 95,
   "id": "9592a52d",
   "metadata": {},
   "outputs": [
    {
     "data": {
      "image/png": "[encoded data removed]",
      "text/plain": [
       "<Figure size 432x288 with 1 Axes>"
      ]
     },
     "metadata": {
      "needs_background": "light"
     },
     "output_type": "display_data"
    }
   ],
   "source": [
    "sns.countplot(x=data['salary'])\n",
    "plt.title(\"salary distribution\")\n",
    "plt.show()"
   ]
  },
  {
   "cell_type": "code",
   "execution_count": 96,
   "id": "7a61d53e",
   "metadata": {},
   "outputs": [],
   "source": [
    "#here the target variable is salary , and it appears to be imbalanced"
   ]
  },
  {
   "cell_type": "code",
   "execution_count": 97,
   "id": "8b7647a3",
   "metadata": {
    "scrolled": true
   },
   "outputs": [
    {
     "data": {
      "image/png": "[encoded data removed]",
      "text/plain": [
       "<Figure size 432x288 with 1 Axes>"
      ]
     },
     "metadata": {
      "needs_background": "light"
     },
     "output_type": "display_data"
    }
   ],
   "source": [
    "sns.barplot(x=data[\"occupation\"],y=data[\"salary\"],data=data)\n",
    "plt.xticks(rotation=90)\n",
    "plt.show()"
   ]
  },
  {
   "cell_type": "code",
   "execution_count": 98,
   "id": "4be43558",
   "metadata": {
    "scrolled": true
   },
   "outputs": [
    {
     "data": {
      "text/plain": [
       "<AxesSubplot:>"
      ]
     },
     "execution_count": 98,
     "metadata": {},
     "output_type": "execute_result"
    },
    {
     "data": {
      "image/png": "[encoded data removed]",
      "text/plain": [
       "<Figure size 720x360 with 2 Axes>"
      ]
     },
     "metadata": {
      "needs_background": "light"
     },
     "output_type": "display_data"
    }
   ],
   "source": [
    "corrmatrix=data.corr()#correlation matrix\n",
    "plt.subplots(figsize=(10,5))\n",
    "sns.heatmap(corrmatrix,linewidth=0.2,annot=True)"
   ]
  },
  {
   "cell_type": "code",
   "execution_count": 99,
   "id": "ac322b13",
   "metadata": {},
   "outputs": [
    {
     "data": {
      "text/plain": [
       "(32561, 11)"
      ]
     },
     "execution_count": 99,
     "metadata": {},
     "output_type": "execute_result"
    }
   ],
   "source": [
    "data.shape"
   ]
  },
  {
   "cell_type": "code",
   "execution_count": 100,
   "id": "0259d5f6",
   "metadata": {},
   "outputs": [
    {
     "data": {
      "text/html": [
       "<div>\n",
       "<style scoped>\n",
       "    .dataframe tbody tr th:only-of-type {\n",
       "        vertical-align: middle;\n",
       "    }\n",
       "\n",
       "    .dataframe tbody tr th {\n",
       "        vertical-align: top;\n",
       "    }\n",
       "\n",
       "    .dataframe thead th {\n",
       "        text-align: right;\n",
       "    }\n",
       "</style>\n",
       "<table border=\"1\" class=\"dataframe\">\n",
       "  <thead>\n",
       "    <tr style=\"text-align: right;\">\n",
       "      <th></th>\n",
       "      <th>age</th>\n",
       "      <th>workclass</th>\n",
       "      <th>education</th>\n",
       "      <th>marital_status</th>\n",
       "      <th>occupation</th>\n",
       "      <th>relationship</th>\n",
       "      <th>race</th>\n",
       "      <th>sex</th>\n",
       "      <th>hours_per_week</th>\n",
       "      <th>native-country</th>\n",
       "      <th>salary</th>\n",
       "    </tr>\n",
       "  </thead>\n",
       "  <tbody>\n",
       "    <tr>\n",
       "      <th>0</th>\n",
       "      <td>39.0</td>\n",
       "      <td>State-gov</td>\n",
       "      <td>Bachelors</td>\n",
       "      <td>Never-married</td>\n",
       "      <td>Adm-clerical</td>\n",
       "      <td>Not-in-family</td>\n",
       "      <td>White</td>\n",
       "      <td>Male</td>\n",
       "      <td>40</td>\n",
       "      <td>United-States</td>\n",
       "      <td>0</td>\n",
       "    </tr>\n",
       "    <tr>\n",
       "      <th>1</th>\n",
       "      <td>50.0</td>\n",
       "      <td>Self-emp-not-inc</td>\n",
       "      <td>Bachelors</td>\n",
       "      <td>Married-civ-spouse</td>\n",
       "      <td>Exec-managerial</td>\n",
       "      <td>Husband</td>\n",
       "      <td>White</td>\n",
       "      <td>Male</td>\n",
       "      <td>13</td>\n",
       "      <td>United-States</td>\n",
       "      <td>0</td>\n",
       "    </tr>\n",
       "    <tr>\n",
       "      <th>2</th>\n",
       "      <td>38.0</td>\n",
       "      <td>Private</td>\n",
       "      <td>HS-grad</td>\n",
       "      <td>Divorced</td>\n",
       "      <td>Handlers-cleaners</td>\n",
       "      <td>Not-in-family</td>\n",
       "      <td>White</td>\n",
       "      <td>Male</td>\n",
       "      <td>40</td>\n",
       "      <td>United-States</td>\n",
       "      <td>0</td>\n",
       "    </tr>\n",
       "    <tr>\n",
       "      <th>3</th>\n",
       "      <td>53.0</td>\n",
       "      <td>Private</td>\n",
       "      <td>11th</td>\n",
       "      <td>Married-civ-spouse</td>\n",
       "      <td>Handlers-cleaners</td>\n",
       "      <td>Husband</td>\n",
       "      <td>Black</td>\n",
       "      <td>Male</td>\n",
       "      <td>40</td>\n",
       "      <td>United-States</td>\n",
       "      <td>0</td>\n",
       "    </tr>\n",
       "    <tr>\n",
       "      <th>4</th>\n",
       "      <td>28.0</td>\n",
       "      <td>Private</td>\n",
       "      <td>Bachelors</td>\n",
       "      <td>Married-civ-spouse</td>\n",
       "      <td>Prof-specialty</td>\n",
       "      <td>Wife</td>\n",
       "      <td>Black</td>\n",
       "      <td>Female</td>\n",
       "      <td>40</td>\n",
       "      <td>Cuba</td>\n",
       "      <td>0</td>\n",
       "    </tr>\n",
       "  </tbody>\n",
       "</table>\n",
       "</div>"
      ],
      "text/plain": [
       "    age         workclass  education      marital_status         occupation  \\\n",
       "0  39.0         State-gov  Bachelors       Never-married       Adm-clerical   \n",
       "1  50.0  Self-emp-not-inc  Bachelors  Married-civ-spouse    Exec-managerial   \n",
       "2  38.0           Private    HS-grad            Divorced  Handlers-cleaners   \n",
       "3  53.0           Private       11th  Married-civ-spouse  Handlers-cleaners   \n",
       "4  28.0           Private  Bachelors  Married-civ-spouse     Prof-specialty   \n",
       "\n",
       "    relationship   race     sex  hours_per_week native-country  salary  \n",
       "0  Not-in-family  White    Male              40  United-States       0  \n",
       "1        Husband  White    Male              13  United-States       0  \n",
       "2  Not-in-family  White    Male              40  United-States       0  \n",
       "3        Husband  Black    Male              40  United-States       0  \n",
       "4           Wife  Black  Female              40           Cuba       0  "
      ]
     },
     "execution_count": 100,
     "metadata": {},
     "output_type": "execute_result"
    }
   ],
   "source": [
    "data.head()"
   ]
  },
  {
   "cell_type": "code",
   "execution_count": 101,
   "id": "7591ab42",
   "metadata": {},
   "outputs": [
    {
     "data": {
      "text/plain": [
       "HS-grad         10501\n",
       "Some-college     7291\n",
       "Bachelors        5355\n",
       "Masters          1723\n",
       "Assoc-voc        1382\n",
       "11th             1175\n",
       "Assoc-acdm       1067\n",
       "10th              933\n",
       "7th-8th           646\n",
       "Prof-school       576\n",
       "9th               514\n",
       "12th              433\n",
       "Doctorate         413\n",
       "5th-6th           333\n",
       "1st-4th           168\n",
       "Preschool          51\n",
       "Name: education, dtype: int64"
      ]
     },
     "execution_count": 101,
     "metadata": {},
     "output_type": "execute_result"
    }
   ],
   "source": [
    "data[\"education\"].value_counts()"
   ]
  },
  {
   "cell_type": "markdown",
   "id": "ec487b05",
   "metadata": {},
   "source": [
    "Formatting education column"
   ]
  },
  {
   "cell_type": "code",
   "execution_count": 102,
   "id": "0b6680f8",
   "metadata": {},
   "outputs": [],
   "source": [
    "data[\"education\"]=data[\"education\"].replace(['Preschool','1st-4th','5th-6th','7th-8th','9th','10th','11th','12th'],'school')"
   ]
  },
  {
   "cell_type": "code",
   "execution_count": 103,
   "id": "4db0321d",
   "metadata": {},
   "outputs": [],
   "source": [
    "data[\"education\"]=data[\"education\"].replace(['HS-grad'],'Highschool')\n",
    "data[\"education\"]=data[\"education\"].replace(['Assoc-voc','Assoc-acdm','Prof-school','Some-college'],'higher')"
   ]
  },
  {
   "cell_type": "code",
   "execution_count": 104,
   "id": "fb8437b4",
   "metadata": {},
   "outputs": [
    {
     "data": {
      "text/plain": [
       "Highschool    10501\n",
       "higher        10316\n",
       "Bachelors      5355\n",
       "school         4253\n",
       "Masters        1723\n",
       "Doctorate       413\n",
       "Name: education, dtype: int64"
      ]
     },
     "execution_count": 104,
     "metadata": {},
     "output_type": "execute_result"
    }
   ],
   "source": [
    "data['education'].value_counts()"
   ]
  },
  {
   "cell_type": "code",
   "execution_count": 105,
   "id": "bc7a5eec",
   "metadata": {},
   "outputs": [
    {
     "data": {
      "text/plain": [
       "0         Bachelors\n",
       "1         Bachelors\n",
       "2        Highschool\n",
       "3            school\n",
       "4         Bachelors\n",
       "            ...    \n",
       "32556        higher\n",
       "32557    Highschool\n",
       "32558    Highschool\n",
       "32559    Highschool\n",
       "32560    Highschool\n",
       "Name: education, Length: 32561, dtype: object"
      ]
     },
     "execution_count": 105,
     "metadata": {},
     "output_type": "execute_result"
    }
   ],
   "source": [
    "data['education']"
   ]
  },
  {
   "cell_type": "code",
   "execution_count": 106,
   "id": "9bcd7747",
   "metadata": {},
   "outputs": [
    {
     "name": "stdout",
     "output_type": "stream",
     "text": [
      "<class 'pandas.core.frame.DataFrame'>\n",
      "RangeIndex: 32561 entries, 0 to 32560\n",
      "Data columns (total 11 columns):\n",
      " #   Column          Non-Null Count  Dtype  \n",
      "---  ------          --------------  -----  \n",
      " 0   age             32561 non-null  float64\n",
      " 1   workclass       32561 non-null  object \n",
      " 2   education       32561 non-null  object \n",
      " 3   marital_status  32561 non-null  object \n",
      " 4   occupation      32561 non-null  object \n",
      " 5   relationship    32561 non-null  object \n",
      " 6   race            32561 non-null  object \n",
      " 7   sex             32561 non-null  object \n",
      " 8   hours_per_week  32561 non-null  int64  \n",
      " 9   native-country  32561 non-null  object \n",
      " 10  salary          32561 non-null  int64  \n",
      "dtypes: float64(1), int64(2), object(8)\n",
      "memory usage: 2.7+ MB\n"
     ]
    }
   ],
   "source": [
    "data.info()"
   ]
  },
  {
   "cell_type": "code",
   "execution_count": 107,
   "id": "a76e4593",
   "metadata": {},
   "outputs": [],
   "source": [
    "data[\"education\"]=data[\"education\"].replace(['Bachelors'],'undergraduate')\n",
    "data[\"education\"]=data[\"education\"].replace(['Masters'],'graduate')"
   ]
  },
  {
   "cell_type": "code",
   "execution_count": 108,
   "id": "294b428c",
   "metadata": {},
   "outputs": [
    {
     "data": {
      "text/plain": [
       "(32561, 11)"
      ]
     },
     "execution_count": 108,
     "metadata": {},
     "output_type": "execute_result"
    }
   ],
   "source": [
    "data.shape"
   ]
  },
  {
   "cell_type": "code",
   "execution_count": 109,
   "id": "f1659789",
   "metadata": {},
   "outputs": [
    {
     "data": {
      "text/plain": [
       "41"
      ]
     },
     "execution_count": 109,
     "metadata": {},
     "output_type": "execute_result"
    }
   ],
   "source": [
    "data[\"native-country\"].nunique()"
   ]
  },
  {
   "cell_type": "code",
   "execution_count": 110,
   "id": "831ab59f",
   "metadata": {},
   "outputs": [],
   "source": [
    "data.drop(\"native-country\",axis=1,inplace=True)"
   ]
  },
  {
   "cell_type": "code",
   "execution_count": 111,
   "id": "6bd0529c",
   "metadata": {},
   "outputs": [
    {
     "data": {
      "text/plain": [
       "(32561, 10)"
      ]
     },
     "execution_count": 111,
     "metadata": {},
     "output_type": "execute_result"
    }
   ],
   "source": [
    "data.shape"
   ]
  },
  {
   "cell_type": "code",
   "execution_count": 112,
   "id": "1ddc2a00",
   "metadata": {},
   "outputs": [
    {
     "data": {
      "text/plain": [
       "array(['undergraduate', 'Highschool', 'school', 'graduate', 'higher',\n",
       "       'Doctorate'], dtype=object)"
      ]
     },
     "execution_count": 112,
     "metadata": {},
     "output_type": "execute_result"
    }
   ],
   "source": [
    "data['education'].unique()"
   ]
  },
  {
   "cell_type": "markdown",
   "id": "0c4d8bdf",
   "metadata": {},
   "source": [
    "# Encoding "
   ]
  },
  {
   "cell_type": "markdown",
   "id": "ffac6179",
   "metadata": {},
   "source": [
    "Ordinal Encoding"
   ]
  },
  {
   "cell_type": "code",
   "execution_count": 113,
   "id": "b1367a8d",
   "metadata": {},
   "outputs": [],
   "source": [
    "#Ordinal encoding on education column"
   ]
  },
  {
   "cell_type": "code",
   "execution_count": 114,
   "id": "59c3b114",
   "metadata": {},
   "outputs": [],
   "source": [
    "from sklearn.preprocessing import OrdinalEncoder"
   ]
  },
  {
   "cell_type": "code",
   "execution_count": 115,
   "id": "4147e017",
   "metadata": {},
   "outputs": [],
   "source": [
    "edu=['school','Highschool','higher','undergraduate','graduate','Doctorate']"
   ]
  },
  {
   "cell_type": "code",
   "execution_count": 116,
   "id": "c6553f0d",
   "metadata": {},
   "outputs": [],
   "source": [
    "oe=OrdinalEncoder(categories=[edu])"
   ]
  },
  {
   "cell_type": "code",
   "execution_count": 117,
   "id": "bc390314",
   "metadata": {},
   "outputs": [
    {
     "data": {
      "text/plain": [
       "OrdinalEncoder(categories=[['school', 'Highschool', 'higher', 'undergraduate',\n",
       "                            'graduate', 'Doctorate']])"
      ]
     },
     "execution_count": 117,
     "metadata": {},
     "output_type": "execute_result"
    }
   ],
   "source": [
    "oe.fit(data[[\"education\"]])"
   ]
  },
  {
   "cell_type": "code",
   "execution_count": 118,
   "id": "81fa1c98",
   "metadata": {},
   "outputs": [
    {
     "data": {
      "text/plain": [
       "0        undergraduate\n",
       "1        undergraduate\n",
       "2           Highschool\n",
       "3               school\n",
       "4        undergraduate\n",
       "             ...      \n",
       "32556           higher\n",
       "32557       Highschool\n",
       "32558       Highschool\n",
       "32559       Highschool\n",
       "32560       Highschool\n",
       "Name: education, Length: 32561, dtype: object"
      ]
     },
     "execution_count": 118,
     "metadata": {},
     "output_type": "execute_result"
    }
   ],
   "source": [
    "data['education']"
   ]
  },
  {
   "cell_type": "code",
   "execution_count": 119,
   "id": "5628c750",
   "metadata": {},
   "outputs": [],
   "source": [
    "data['education']=pd.DataFrame(oe.transform(data[[\"education\"]]))"
   ]
  },
  {
   "cell_type": "code",
   "execution_count": 120,
   "id": "6ea2e9f1",
   "metadata": {},
   "outputs": [
    {
     "data": {
      "text/plain": [
       "0        3.0\n",
       "1        3.0\n",
       "2        1.0\n",
       "3        0.0\n",
       "4        3.0\n",
       "        ... \n",
       "32556    2.0\n",
       "32557    1.0\n",
       "32558    1.0\n",
       "32559    1.0\n",
       "32560    1.0\n",
       "Name: education, Length: 32561, dtype: float64"
      ]
     },
     "execution_count": 120,
     "metadata": {},
     "output_type": "execute_result"
    }
   ],
   "source": [
    "data['education']"
   ]
  },
  {
   "cell_type": "markdown",
   "id": "eb93e898",
   "metadata": {},
   "source": [
    "Label Encoding"
   ]
  },
  {
   "cell_type": "code",
   "execution_count": 121,
   "id": "db3fd131",
   "metadata": {},
   "outputs": [],
   "source": [
    "from sklearn.preprocessing import LabelEncoder"
   ]
  },
  {
   "cell_type": "code",
   "execution_count": 122,
   "id": "197ca9e0",
   "metadata": {},
   "outputs": [],
   "source": [
    "label_encoder=LabelEncoder()\n",
    "data['workclass']=label_encoder.fit_transform(data['workclass'])"
   ]
  },
  {
   "cell_type": "code",
   "execution_count": 123,
   "id": "bccc47b7",
   "metadata": {},
   "outputs": [],
   "source": [
    "data['marital_status']=label_encoder.fit_transform(data['marital_status'])\n",
    "data['occupation']=label_encoder.fit_transform(data['occupation'])\n",
    "data['relationship']=label_encoder.fit_transform(data['relationship'])\n",
    "data['race']=label_encoder.fit_transform(data['race'])\n",
    "data['sex']=label_encoder.fit_transform(data['sex'])"
   ]
  },
  {
   "cell_type": "code",
   "execution_count": 124,
   "id": "05826c0b",
   "metadata": {},
   "outputs": [
    {
     "data": {
      "text/html": [
       "<div>\n",
       "<style scoped>\n",
       "    .dataframe tbody tr th:only-of-type {\n",
       "        vertical-align: middle;\n",
       "    }\n",
       "\n",
       "    .dataframe tbody tr th {\n",
       "        vertical-align: top;\n",
       "    }\n",
       "\n",
       "    .dataframe thead th {\n",
       "        text-align: right;\n",
       "    }\n",
       "</style>\n",
       "<table border=\"1\" class=\"dataframe\">\n",
       "  <thead>\n",
       "    <tr style=\"text-align: right;\">\n",
       "      <th></th>\n",
       "      <th>age</th>\n",
       "      <th>workclass</th>\n",
       "      <th>education</th>\n",
       "      <th>marital_status</th>\n",
       "      <th>occupation</th>\n",
       "      <th>relationship</th>\n",
       "      <th>race</th>\n",
       "      <th>sex</th>\n",
       "      <th>hours_per_week</th>\n",
       "      <th>salary</th>\n",
       "    </tr>\n",
       "  </thead>\n",
       "  <tbody>\n",
       "    <tr>\n",
       "      <th>0</th>\n",
       "      <td>39.0</td>\n",
       "      <td>6</td>\n",
       "      <td>3.0</td>\n",
       "      <td>4</td>\n",
       "      <td>0</td>\n",
       "      <td>1</td>\n",
       "      <td>4</td>\n",
       "      <td>1</td>\n",
       "      <td>40</td>\n",
       "      <td>0</td>\n",
       "    </tr>\n",
       "    <tr>\n",
       "      <th>1</th>\n",
       "      <td>50.0</td>\n",
       "      <td>5</td>\n",
       "      <td>3.0</td>\n",
       "      <td>2</td>\n",
       "      <td>3</td>\n",
       "      <td>0</td>\n",
       "      <td>4</td>\n",
       "      <td>1</td>\n",
       "      <td>13</td>\n",
       "      <td>0</td>\n",
       "    </tr>\n",
       "    <tr>\n",
       "      <th>2</th>\n",
       "      <td>38.0</td>\n",
       "      <td>3</td>\n",
       "      <td>1.0</td>\n",
       "      <td>0</td>\n",
       "      <td>5</td>\n",
       "      <td>1</td>\n",
       "      <td>4</td>\n",
       "      <td>1</td>\n",
       "      <td>40</td>\n",
       "      <td>0</td>\n",
       "    </tr>\n",
       "    <tr>\n",
       "      <th>3</th>\n",
       "      <td>53.0</td>\n",
       "      <td>3</td>\n",
       "      <td>0.0</td>\n",
       "      <td>2</td>\n",
       "      <td>5</td>\n",
       "      <td>0</td>\n",
       "      <td>2</td>\n",
       "      <td>1</td>\n",
       "      <td>40</td>\n",
       "      <td>0</td>\n",
       "    </tr>\n",
       "    <tr>\n",
       "      <th>4</th>\n",
       "      <td>28.0</td>\n",
       "      <td>3</td>\n",
       "      <td>3.0</td>\n",
       "      <td>2</td>\n",
       "      <td>9</td>\n",
       "      <td>5</td>\n",
       "      <td>2</td>\n",
       "      <td>0</td>\n",
       "      <td>40</td>\n",
       "      <td>0</td>\n",
       "    </tr>\n",
       "  </tbody>\n",
       "</table>\n",
       "</div>"
      ],
      "text/plain": [
       "    age  workclass  education  marital_status  occupation  relationship  race  \\\n",
       "0  39.0          6        3.0               4           0             1     4   \n",
       "1  50.0          5        3.0               2           3             0     4   \n",
       "2  38.0          3        1.0               0           5             1     4   \n",
       "3  53.0          3        0.0               2           5             0     2   \n",
       "4  28.0          3        3.0               2           9             5     2   \n",
       "\n",
       "   sex  hours_per_week  salary  \n",
       "0    1              40       0  \n",
       "1    1              13       0  \n",
       "2    1              40       0  \n",
       "3    1              40       0  \n",
       "4    0              40       0  "
      ]
     },
     "execution_count": 124,
     "metadata": {},
     "output_type": "execute_result"
    }
   ],
   "source": [
    "data.head()"
   ]
  },
  {
   "cell_type": "code",
   "execution_count": 125,
   "id": "6ae7a425",
   "metadata": {},
   "outputs": [],
   "source": [
    "X1=data[['age','hours_per_week']]"
   ]
  },
  {
   "cell_type": "markdown",
   "id": "a4234b96",
   "metadata": {},
   "source": [
    "Normalization"
   ]
  },
  {
   "cell_type": "code",
   "execution_count": 126,
   "id": "83c24933",
   "metadata": {},
   "outputs": [],
   "source": [
    "from sklearn import preprocessing\n",
    "X1=preprocessing.normalize(X1) #applying normalization on numerical columns"
   ]
  },
  {
   "cell_type": "code",
   "execution_count": 127,
   "id": "0ab9da8a",
   "metadata": {},
   "outputs": [
    {
     "data": {
      "text/plain": [
       "numpy.ndarray"
      ]
     },
     "execution_count": 127,
     "metadata": {},
     "output_type": "execute_result"
    }
   ],
   "source": [
    "type(X1) #X1 is converted to array"
   ]
  },
  {
   "cell_type": "code",
   "execution_count": 128,
   "id": "9fd1e05b",
   "metadata": {},
   "outputs": [],
   "source": [
    "X1=pd.DataFrame(X1,columns=['age','hours_per_week'])# coverting X1 back to dataframe"
   ]
  },
  {
   "cell_type": "code",
   "execution_count": 129,
   "id": "daa0c0ad",
   "metadata": {},
   "outputs": [
    {
     "data": {
      "text/html": [
       "<div>\n",
       "<style scoped>\n",
       "    .dataframe tbody tr th:only-of-type {\n",
       "        vertical-align: middle;\n",
       "    }\n",
       "\n",
       "    .dataframe tbody tr th {\n",
       "        vertical-align: top;\n",
       "    }\n",
       "\n",
       "    .dataframe thead th {\n",
       "        text-align: right;\n",
       "    }\n",
       "</style>\n",
       "<table border=\"1\" class=\"dataframe\">\n",
       "  <thead>\n",
       "    <tr style=\"text-align: right;\">\n",
       "      <th></th>\n",
       "      <th>age</th>\n",
       "      <th>hours_per_week</th>\n",
       "    </tr>\n",
       "  </thead>\n",
       "  <tbody>\n",
       "    <tr>\n",
       "      <th>count</th>\n",
       "      <td>32561.000000</td>\n",
       "      <td>32561.000000</td>\n",
       "    </tr>\n",
       "    <tr>\n",
       "      <th>mean</th>\n",
       "      <td>0.669630</td>\n",
       "      <td>0.712911</td>\n",
       "    </tr>\n",
       "    <tr>\n",
       "      <th>std</th>\n",
       "      <td>0.140084</td>\n",
       "      <td>0.154050</td>\n",
       "    </tr>\n",
       "    <tr>\n",
       "      <th>min</th>\n",
       "      <td>0.188479</td>\n",
       "      <td>0.012819</td>\n",
       "    </tr>\n",
       "    <tr>\n",
       "      <th>25%</th>\n",
       "      <td>0.565528</td>\n",
       "      <td>0.640184</td>\n",
       "    </tr>\n",
       "    <tr>\n",
       "      <th>50%</th>\n",
       "      <td>0.668965</td>\n",
       "      <td>0.743294</td>\n",
       "    </tr>\n",
       "    <tr>\n",
       "      <th>75%</th>\n",
       "      <td>0.768221</td>\n",
       "      <td>0.824729</td>\n",
       "    </tr>\n",
       "    <tr>\n",
       "      <th>max</th>\n",
       "      <td>0.999918</td>\n",
       "      <td>0.982077</td>\n",
       "    </tr>\n",
       "  </tbody>\n",
       "</table>\n",
       "</div>"
      ],
      "text/plain": [
       "                age  hours_per_week\n",
       "count  32561.000000    32561.000000\n",
       "mean       0.669630        0.712911\n",
       "std        0.140084        0.154050\n",
       "min        0.188479        0.012819\n",
       "25%        0.565528        0.640184\n",
       "50%        0.668965        0.743294\n",
       "75%        0.768221        0.824729\n",
       "max        0.999918        0.982077"
      ]
     },
     "execution_count": 129,
     "metadata": {},
     "output_type": "execute_result"
    }
   ],
   "source": [
    "X1.describe()"
   ]
  },
  {
   "cell_type": "code",
   "execution_count": 130,
   "id": "c3a0d5ee",
   "metadata": {},
   "outputs": [],
   "source": [
    "X=data.drop(['age','hours_per_week'],axis=1)"
   ]
  },
  {
   "cell_type": "code",
   "execution_count": 131,
   "id": "b9581edc",
   "metadata": {},
   "outputs": [],
   "source": [
    "X=pd.concat([X,X1],axis=1) #concatenating  x and normalized columns"
   ]
  },
  {
   "cell_type": "code",
   "execution_count": 132,
   "id": "c2288596",
   "metadata": {},
   "outputs": [
    {
     "data": {
      "text/html": [
       "<div>\n",
       "<style scoped>\n",
       "    .dataframe tbody tr th:only-of-type {\n",
       "        vertical-align: middle;\n",
       "    }\n",
       "\n",
       "    .dataframe tbody tr th {\n",
       "        vertical-align: top;\n",
       "    }\n",
       "\n",
       "    .dataframe thead th {\n",
       "        text-align: right;\n",
       "    }\n",
       "</style>\n",
       "<table border=\"1\" class=\"dataframe\">\n",
       "  <thead>\n",
       "    <tr style=\"text-align: right;\">\n",
       "      <th></th>\n",
       "      <th>workclass</th>\n",
       "      <th>education</th>\n",
       "      <th>marital_status</th>\n",
       "      <th>occupation</th>\n",
       "      <th>relationship</th>\n",
       "      <th>race</th>\n",
       "      <th>sex</th>\n",
       "      <th>salary</th>\n",
       "      <th>age</th>\n",
       "      <th>hours_per_week</th>\n",
       "    </tr>\n",
       "  </thead>\n",
       "  <tbody>\n",
       "    <tr>\n",
       "      <th>32556</th>\n",
       "      <td>3</td>\n",
       "      <td>2.0</td>\n",
       "      <td>2</td>\n",
       "      <td>12</td>\n",
       "      <td>5</td>\n",
       "      <td>4</td>\n",
       "      <td>0</td>\n",
       "      <td>0</td>\n",
       "      <td>0.579207</td>\n",
       "      <td>0.815180</td>\n",
       "    </tr>\n",
       "    <tr>\n",
       "      <th>32557</th>\n",
       "      <td>3</td>\n",
       "      <td>1.0</td>\n",
       "      <td>2</td>\n",
       "      <td>6</td>\n",
       "      <td>0</td>\n",
       "      <td>4</td>\n",
       "      <td>1</td>\n",
       "      <td>1</td>\n",
       "      <td>0.707107</td>\n",
       "      <td>0.707107</td>\n",
       "    </tr>\n",
       "    <tr>\n",
       "      <th>32558</th>\n",
       "      <td>3</td>\n",
       "      <td>1.0</td>\n",
       "      <td>6</td>\n",
       "      <td>0</td>\n",
       "      <td>4</td>\n",
       "      <td>4</td>\n",
       "      <td>0</td>\n",
       "      <td>0</td>\n",
       "      <td>0.823213</td>\n",
       "      <td>0.567733</td>\n",
       "    </tr>\n",
       "    <tr>\n",
       "      <th>32559</th>\n",
       "      <td>3</td>\n",
       "      <td>1.0</td>\n",
       "      <td>4</td>\n",
       "      <td>0</td>\n",
       "      <td>3</td>\n",
       "      <td>4</td>\n",
       "      <td>1</td>\n",
       "      <td>0</td>\n",
       "      <td>0.739940</td>\n",
       "      <td>0.672673</td>\n",
       "    </tr>\n",
       "    <tr>\n",
       "      <th>32560</th>\n",
       "      <td>4</td>\n",
       "      <td>1.0</td>\n",
       "      <td>2</td>\n",
       "      <td>3</td>\n",
       "      <td>5</td>\n",
       "      <td>4</td>\n",
       "      <td>0</td>\n",
       "      <td>1</td>\n",
       "      <td>0.792624</td>\n",
       "      <td>0.609711</td>\n",
       "    </tr>\n",
       "  </tbody>\n",
       "</table>\n",
       "</div>"
      ],
      "text/plain": [
       "       workclass  education  marital_status  occupation  relationship  race  \\\n",
       "32556          3        2.0               2          12             5     4   \n",
       "32557          3        1.0               2           6             0     4   \n",
       "32558          3        1.0               6           0             4     4   \n",
       "32559          3        1.0               4           0             3     4   \n",
       "32560          4        1.0               2           3             5     4   \n",
       "\n",
       "       sex  salary       age  hours_per_week  \n",
       "32556    0       0  0.579207        0.815180  \n",
       "32557    1       1  0.707107        0.707107  \n",
       "32558    0       0  0.823213        0.567733  \n",
       "32559    1       0  0.739940        0.672673  \n",
       "32560    0       1  0.792624        0.609711  "
      ]
     },
     "execution_count": 132,
     "metadata": {},
     "output_type": "execute_result"
    }
   ],
   "source": [
    "X.tail()"
   ]
  },
  {
   "cell_type": "markdown",
   "id": "95d45d01",
   "metadata": {},
   "source": [
    "Removing Duplicates"
   ]
  },
  {
   "cell_type": "code",
   "execution_count": 133,
   "id": "442d85c5",
   "metadata": {},
   "outputs": [
    {
     "data": {
      "text/plain": [
       "5646"
      ]
     },
     "execution_count": 133,
     "metadata": {},
     "output_type": "execute_result"
    }
   ],
   "source": [
    "sum(data.duplicated(data.columns))"
   ]
  },
  {
   "cell_type": "code",
   "execution_count": 134,
   "id": "13153694",
   "metadata": {},
   "outputs": [
    {
     "data": {
      "text/plain": [
       "0"
      ]
     },
     "execution_count": 134,
     "metadata": {},
     "output_type": "execute_result"
    }
   ],
   "source": [
    "data = data.drop_duplicates(subset=None, keep='first')\n",
    "sum(data.duplicated(data.columns))"
   ]
  },
  {
   "cell_type": "markdown",
   "id": "62f1e0c6",
   "metadata": {},
   "source": [
    " Feature-Target Split"
   ]
  },
  {
   "cell_type": "code",
   "execution_count": 135,
   "id": "c95b16ca",
   "metadata": {},
   "outputs": [],
   "source": [
    "X=data.drop('salary',axis=1)\n",
    "y=data['salary']"
   ]
  },
  {
   "cell_type": "code",
   "execution_count": 136,
   "id": "148c9812",
   "metadata": {},
   "outputs": [
    {
     "data": {
      "text/html": [
       "<div>\n",
       "<style scoped>\n",
       "    .dataframe tbody tr th:only-of-type {\n",
       "        vertical-align: middle;\n",
       "    }\n",
       "\n",
       "    .dataframe tbody tr th {\n",
       "        vertical-align: top;\n",
       "    }\n",
       "\n",
       "    .dataframe thead th {\n",
       "        text-align: right;\n",
       "    }\n",
       "</style>\n",
       "<table border=\"1\" class=\"dataframe\">\n",
       "  <thead>\n",
       "    <tr style=\"text-align: right;\">\n",
       "      <th></th>\n",
       "      <th>age</th>\n",
       "      <th>workclass</th>\n",
       "      <th>education</th>\n",
       "      <th>marital_status</th>\n",
       "      <th>occupation</th>\n",
       "      <th>relationship</th>\n",
       "      <th>race</th>\n",
       "      <th>sex</th>\n",
       "      <th>hours_per_week</th>\n",
       "    </tr>\n",
       "  </thead>\n",
       "  <tbody>\n",
       "    <tr>\n",
       "      <th>count</th>\n",
       "      <td>26915.000000</td>\n",
       "      <td>26915.000000</td>\n",
       "      <td>26915.000000</td>\n",
       "      <td>26915.000000</td>\n",
       "      <td>26915.000000</td>\n",
       "      <td>26915.000000</td>\n",
       "      <td>26915.000000</td>\n",
       "      <td>26915.000000</td>\n",
       "      <td>26915.000000</td>\n",
       "    </tr>\n",
       "    <tr>\n",
       "      <th>mean</th>\n",
       "      <td>39.404273</td>\n",
       "      <td>3.111351</td>\n",
       "      <td>1.748022</td>\n",
       "      <td>2.603715</td>\n",
       "      <td>6.277503</td>\n",
       "      <td>1.521085</td>\n",
       "      <td>3.607914</td>\n",
       "      <td>0.648932</td>\n",
       "      <td>40.674271</td>\n",
       "    </tr>\n",
       "    <tr>\n",
       "      <th>std</th>\n",
       "      <td>13.683057</td>\n",
       "      <td>1.191971</td>\n",
       "      <td>1.144191</td>\n",
       "      <td>1.567619</td>\n",
       "      <td>3.974534</td>\n",
       "      <td>1.631515</td>\n",
       "      <td>0.909180</td>\n",
       "      <td>0.477313</td>\n",
       "      <td>13.033302</td>\n",
       "    </tr>\n",
       "    <tr>\n",
       "      <th>min</th>\n",
       "      <td>17.000000</td>\n",
       "      <td>0.000000</td>\n",
       "      <td>0.000000</td>\n",
       "      <td>0.000000</td>\n",
       "      <td>0.000000</td>\n",
       "      <td>0.000000</td>\n",
       "      <td>0.000000</td>\n",
       "      <td>0.000000</td>\n",
       "      <td>1.000000</td>\n",
       "    </tr>\n",
       "    <tr>\n",
       "      <th>25%</th>\n",
       "      <td>28.000000</td>\n",
       "      <td>3.000000</td>\n",
       "      <td>1.000000</td>\n",
       "      <td>2.000000</td>\n",
       "      <td>3.000000</td>\n",
       "      <td>0.000000</td>\n",
       "      <td>4.000000</td>\n",
       "      <td>0.000000</td>\n",
       "      <td>38.000000</td>\n",
       "    </tr>\n",
       "    <tr>\n",
       "      <th>50%</th>\n",
       "      <td>38.000000</td>\n",
       "      <td>3.000000</td>\n",
       "      <td>2.000000</td>\n",
       "      <td>2.000000</td>\n",
       "      <td>7.000000</td>\n",
       "      <td>1.000000</td>\n",
       "      <td>4.000000</td>\n",
       "      <td>1.000000</td>\n",
       "      <td>40.000000</td>\n",
       "    </tr>\n",
       "    <tr>\n",
       "      <th>75%</th>\n",
       "      <td>49.000000</td>\n",
       "      <td>3.000000</td>\n",
       "      <td>2.000000</td>\n",
       "      <td>4.000000</td>\n",
       "      <td>9.000000</td>\n",
       "      <td>3.000000</td>\n",
       "      <td>4.000000</td>\n",
       "      <td>1.000000</td>\n",
       "      <td>45.000000</td>\n",
       "    </tr>\n",
       "    <tr>\n",
       "      <th>max</th>\n",
       "      <td>78.000000</td>\n",
       "      <td>7.000000</td>\n",
       "      <td>5.000000</td>\n",
       "      <td>6.000000</td>\n",
       "      <td>13.000000</td>\n",
       "      <td>5.000000</td>\n",
       "      <td>4.000000</td>\n",
       "      <td>1.000000</td>\n",
       "      <td>99.000000</td>\n",
       "    </tr>\n",
       "  </tbody>\n",
       "</table>\n",
       "</div>"
      ],
      "text/plain": [
       "                age     workclass     education  marital_status    occupation  \\\n",
       "count  26915.000000  26915.000000  26915.000000    26915.000000  26915.000000   \n",
       "mean      39.404273      3.111351      1.748022        2.603715      6.277503   \n",
       "std       13.683057      1.191971      1.144191        1.567619      3.974534   \n",
       "min       17.000000      0.000000      0.000000        0.000000      0.000000   \n",
       "25%       28.000000      3.000000      1.000000        2.000000      3.000000   \n",
       "50%       38.000000      3.000000      2.000000        2.000000      7.000000   \n",
       "75%       49.000000      3.000000      2.000000        4.000000      9.000000   \n",
       "max       78.000000      7.000000      5.000000        6.000000     13.000000   \n",
       "\n",
       "       relationship          race           sex  hours_per_week  \n",
       "count  26915.000000  26915.000000  26915.000000    26915.000000  \n",
       "mean       1.521085      3.607914      0.648932       40.674271  \n",
       "std        1.631515      0.909180      0.477313       13.033302  \n",
       "min        0.000000      0.000000      0.000000        1.000000  \n",
       "25%        0.000000      4.000000      0.000000       38.000000  \n",
       "50%        1.000000      4.000000      1.000000       40.000000  \n",
       "75%        3.000000      4.000000      1.000000       45.000000  \n",
       "max        5.000000      4.000000      1.000000       99.000000  "
      ]
     },
     "execution_count": 136,
     "metadata": {},
     "output_type": "execute_result"
    }
   ],
   "source": [
    "X.describe()"
   ]
  },
  {
   "cell_type": "markdown",
   "id": "8b012912",
   "metadata": {},
   "source": [
    "train-test Split"
   ]
  },
  {
   "cell_type": "code",
   "execution_count": 137,
   "id": "592344bd",
   "metadata": {},
   "outputs": [],
   "source": [
    "from sklearn.model_selection import train_test_split"
   ]
  },
  {
   "cell_type": "code",
   "execution_count": 138,
   "id": "bd81fb13",
   "metadata": {},
   "outputs": [],
   "source": [
    "X_train,X_test,y_train,y_test=train_test_split(X,y,random_state=42,test_size=0.2)"
   ]
  },
  {
   "cell_type": "markdown",
   "id": "828e3ce7",
   "metadata": {},
   "source": [
    "SMOTE"
   ]
  },
  {
   "cell_type": "code",
   "execution_count": 139,
   "id": "a276191e",
   "metadata": {},
   "outputs": [],
   "source": [
    "#since the target is imbalanced , SMOTE is applied to balance the target column"
   ]
  },
  {
   "cell_type": "code",
   "execution_count": 140,
   "id": "42c1dc69",
   "metadata": {},
   "outputs": [],
   "source": [
    "from imblearn.over_sampling import SMOTE\n",
    "from collections import Counter"
   ]
  },
  {
   "cell_type": "code",
   "execution_count": 141,
   "id": "1139e170",
   "metadata": {},
   "outputs": [
    {
     "name": "stdout",
     "output_type": "stream",
     "text": [
      "Before Counter({0: 16397, 1: 5135})\n",
      "After Counter({1: 16397, 0: 16397})\n"
     ]
    }
   ],
   "source": [
    "counter=Counter(y_train)\n",
    "print('Before',counter)\n",
    "smt=SMOTE()\n",
    "X_train_sm,y_train_sm=smt.fit_resample(X_train,y_train)\n",
    "counter=Counter(y_train_sm)\n",
    "print('After',counter)"
   ]
  },
  {
   "cell_type": "code",
   "execution_count": 142,
   "id": "65a57b18",
   "metadata": {},
   "outputs": [],
   "source": [
    "#Salary column after applying SMOTE appears to be balanced."
   ]
  },
  {
   "cell_type": "markdown",
   "id": "94c0dcf7",
   "metadata": {},
   "source": [
    "# Model Building"
   ]
  },
  {
   "cell_type": "code",
   "execution_count": 143,
   "id": "b4c36254",
   "metadata": {},
   "outputs": [],
   "source": [
    "#importing evaluation metrics \n",
    "from sklearn.metrics import confusion_matrix\n",
    "from sklearn.metrics import accuracy_score,precision_score,recall_score,f1_score"
   ]
  },
  {
   "cell_type": "code",
   "execution_count": 144,
   "id": "4ba6332a",
   "metadata": {},
   "outputs": [],
   "source": [
    "from sklearn.metrics import classification_report"
   ]
  },
  {
   "cell_type": "markdown",
   "id": "2db09f0f",
   "metadata": {},
   "source": [
    "# Logistic Regression"
   ]
  },
  {
   "cell_type": "code",
   "execution_count": 145,
   "id": "c9645dea",
   "metadata": {},
   "outputs": [],
   "source": [
    "from sklearn.linear_model import LogisticRegression"
   ]
  },
  {
   "cell_type": "code",
   "execution_count": 146,
   "id": "aae8e80f",
   "metadata": {},
   "outputs": [
    {
     "name": "stderr",
     "output_type": "stream",
     "text": [
      "C:\\Users\\hp\\anaconda3\\lib\\site-packages\\sklearn\\linear_model\\_logistic.py:814: ConvergenceWarning: lbfgs failed to converge (status=1):\n",
      "STOP: TOTAL NO. of ITERATIONS REACHED LIMIT.\n",
      "\n",
      "Increase the number of iterations (max_iter) or scale the data as shown in:\n",
      "    https://scikit-learn.org/stable/modules/preprocessing.html\n",
      "Please also refer to the documentation for alternative solver options:\n",
      "    https://scikit-learn.org/stable/modules/linear_model.html#logistic-regression\n",
      "  n_iter_i = _check_optimize_result(\n"
     ]
    }
   ],
   "source": [
    "logit_model=LogisticRegression()\n",
    "logit_model=logit_model.fit(X_train_sm,y_train_sm)\n",
    "y_pred_logit=logit_model.predict(X_test)"
   ]
  },
  {
   "cell_type": "code",
   "execution_count": 147,
   "id": "3cc5b1c5",
   "metadata": {},
   "outputs": [
    {
     "data": {
      "text/plain": [
       "(26915,)"
      ]
     },
     "execution_count": 147,
     "metadata": {},
     "output_type": "execute_result"
    }
   ],
   "source": [
    "y.shape"
   ]
  },
  {
   "cell_type": "code",
   "execution_count": 148,
   "id": "9e39c665",
   "metadata": {},
   "outputs": [
    {
     "data": {
      "text/plain": [
       "array([0, 0, 0, ..., 0, 0, 0], dtype=int64)"
      ]
     },
     "execution_count": 148,
     "metadata": {},
     "output_type": "execute_result"
    }
   ],
   "source": [
    "y_pred_logit"
   ]
  },
  {
   "cell_type": "code",
   "execution_count": 149,
   "id": "78936bd8",
   "metadata": {},
   "outputs": [
    {
     "name": "stdout",
     "output_type": "stream",
     "text": [
      "              precision    recall  f1-score   support\n",
      "\n",
      "           0       0.89      0.72      0.79      4089\n",
      "           1       0.44      0.71      0.55      1294\n",
      "\n",
      "    accuracy                           0.71      5383\n",
      "   macro avg       0.66      0.71      0.67      5383\n",
      "weighted avg       0.78      0.71      0.73      5383\n",
      "\n"
     ]
    }
   ],
   "source": [
    "print(classification_report(y_test,y_pred_logit))"
   ]
  },
  {
   "cell_type": "code",
   "execution_count": 150,
   "id": "fe090de0",
   "metadata": {},
   "outputs": [
    {
     "data": {
      "text/plain": [
       "array([[2925, 1164],\n",
       "       [ 373,  921]], dtype=int64)"
      ]
     },
     "execution_count": 150,
     "metadata": {},
     "output_type": "execute_result"
    }
   ],
   "source": [
    "confusion_matrix(y_test,y_pred_logit)"
   ]
  },
  {
   "cell_type": "code",
   "execution_count": 151,
   "id": "dced95ff",
   "metadata": {},
   "outputs": [
    {
     "name": "stdout",
     "output_type": "stream",
     "text": [
      "Accuracy for logistic Regression is 0.7144714843024336\n",
      "precision for logistic Regression is 0.7798872480039319\n",
      "recall score for logistic Regression is 0.7144714843024336\n",
      "F1 score for logistic regression is 0.7326043897756641\n"
     ]
    }
   ],
   "source": [
    "print(\"Accuracy for logistic Regression is\",(accuracy_score(y_test,y_pred_logit)))\n",
    "print(\"precision for logistic Regression is\",(precision_score(y_test,y_pred_logit,average='weighted')))\n",
    "print(\"recall score for logistic Regression is\",(recall_score(y_test,y_pred_logit,average='weighted')))\n",
    "print(\"F1 score for logistic regression is\",(f1_score(y_test,y_pred_logit,average='weighted')))"
   ]
  },
  {
   "cell_type": "markdown",
   "id": "01ab2aae",
   "metadata": {},
   "source": [
    "# K-Nearest Neighbors Model"
   ]
  },
  {
   "cell_type": "code",
   "execution_count": 152,
   "id": "05eed5db",
   "metadata": {},
   "outputs": [],
   "source": [
    "from sklearn.neighbors import KNeighborsClassifier"
   ]
  },
  {
   "cell_type": "code",
   "execution_count": 153,
   "id": "1593768c",
   "metadata": {},
   "outputs": [],
   "source": [
    "metric_k=[]\n"
   ]
  },
  {
   "cell_type": "code",
   "execution_count": 154,
   "id": "43eeae8d",
   "metadata": {},
   "outputs": [],
   "source": [
    "neighbors=range(3,15)\n",
    "for k in neighbors:\n",
    "    classifier=KNeighborsClassifier(n_neighbors=k)\n",
    "    classifier=classifier.fit(X_train_sm,y_train_sm)\n",
    "    y_pred_KNN=classifier.predict(X_test)\n",
    "    acc=accuracy_score(y_test,y_pred_KNN)\n",
    "    metric_k.append(acc)"
   ]
  },
  {
   "cell_type": "code",
   "execution_count": 155,
   "id": "5a1ad55a",
   "metadata": {},
   "outputs": [
    {
     "data": {
      "text/plain": [
       "[0.7258034553223109,\n",
       " 0.7427085268437674,\n",
       " 0.7267323054059075,\n",
       " 0.7382500464425041,\n",
       " 0.718372654653539,\n",
       " 0.7345346461081181,\n",
       " 0.7209734348876091,\n",
       " 0.7360208062418726,\n",
       " 0.7213449749210478,\n",
       " 0.7323054059074865,\n",
       " 0.7168864945197845,\n",
       " 0.7287757755898198]"
      ]
     },
     "execution_count": 155,
     "metadata": {},
     "output_type": "execute_result"
    }
   ],
   "source": [
    "metric_k"
   ]
  },
  {
   "cell_type": "code",
   "execution_count": 156,
   "id": "df89875f",
   "metadata": {},
   "outputs": [
    {
     "data": {
      "image/png": "[encoded data removed]",
      "text/plain": [
       "<Figure size 432x288 with 1 Axes>"
      ]
     },
     "metadata": {
      "needs_background": "light"
     },
     "output_type": "display_data"
    }
   ],
   "source": [
    "plt.plot(neighbors,metric_k,'o-')\n",
    "plt.xlabel('k values')\n",
    "plt.ylabel('accuracies')\n",
    "plt.grid()"
   ]
  },
  {
   "cell_type": "code",
   "execution_count": 157,
   "id": "0d0fd3e5",
   "metadata": {},
   "outputs": [],
   "source": [
    "classifier=KNeighborsClassifier(n_neighbors=4)\n",
    "classifier=classifier.fit(X_train_sm,y_train_sm)\n",
    "y_pred_KNN=classifier.predict(X_test)"
   ]
  },
  {
   "cell_type": "code",
   "execution_count": 158,
   "id": "3aee098c",
   "metadata": {},
   "outputs": [
    {
     "name": "stdout",
     "output_type": "stream",
     "text": [
      "              precision    recall  f1-score   support\n",
      "\n",
      "           0       0.85      0.80      0.83      4089\n",
      "           1       0.47      0.56      0.51      1294\n",
      "\n",
      "    accuracy                           0.74      5383\n",
      "   macro avg       0.66      0.68      0.67      5383\n",
      "weighted avg       0.76      0.74      0.75      5383\n",
      "\n"
     ]
    }
   ],
   "source": [
    "print(classification_report(y_test,y_pred_KNN))"
   ]
  },
  {
   "cell_type": "code",
   "execution_count": 159,
   "id": "7a80b1e3",
   "metadata": {},
   "outputs": [
    {
     "data": {
      "text/plain": [
       "Text(33.0, 0.5, 'Actual Values')"
      ]
     },
     "execution_count": 159,
     "metadata": {},
     "output_type": "execute_result"
    },
    {
     "data": {
      "image/png": "[encoded data removed]",
      "text/plain": [
       "<Figure size 432x288 with 2 Axes>"
      ]
     },
     "metadata": {
      "needs_background": "light"
     },
     "output_type": "display_data"
    }
   ],
   "source": [
    "sns.heatmap(confusion_matrix(y_test,y_pred_KNN),annot=True,fmt='g')\n",
    "plt.xlabel('Predicted Values')\n",
    "plt.ylabel('Actual Values')"
   ]
  },
  {
   "cell_type": "code",
   "execution_count": 160,
   "id": "74fa2147",
   "metadata": {},
   "outputs": [
    {
     "name": "stdout",
     "output_type": "stream",
     "text": [
      "accuracy for KNN model is 0.7427085268437674\n",
      "precision for KNN model is 0.7602103482113703\n",
      "Recall score for KNN model is 0.7427085268437674\n",
      "F1 score for KNN model is 0.7499103218841794\n"
     ]
    }
   ],
   "source": [
    "print(\"accuracy for KNN model is\",(accuracy_score(y_test,y_pred_KNN)))\n",
    "print(\"precision for KNN model is\",(precision_score(y_test,y_pred_KNN,average='weighted')))\n",
    "print(\"Recall score for KNN model is\",(recall_score(y_test,y_pred_KNN,average='weighted')))\n",
    "print('F1 score for KNN model is',(f1_score(y_test,y_pred_KNN,average='weighted')))\n",
    "\n"
   ]
  },
  {
   "cell_type": "markdown",
   "id": "bfb3c3e6",
   "metadata": {},
   "source": [
    "# Support vector Machines (SVM) Model"
   ]
  },
  {
   "cell_type": "code",
   "execution_count": 161,
   "id": "d81b7d2f",
   "metadata": {},
   "outputs": [],
   "source": [
    "from sklearn.svm import SVC\n"
   ]
  },
  {
   "cell_type": "code",
   "execution_count": 162,
   "id": "92007ef8",
   "metadata": {},
   "outputs": [],
   "source": [
    "svm_clf=SVC(kernel='rbf')\n",
    "svm_clf=svm_clf.fit(X_train_sm,y_train_sm)\n",
    "y_pred_svm=svm_clf.predict(X_test)"
   ]
  },
  {
   "cell_type": "code",
   "execution_count": 163,
   "id": "c583206e",
   "metadata": {},
   "outputs": [
    {
     "data": {
      "text/plain": [
       "array([[2864, 1225],\n",
       "       [ 315,  979]], dtype=int64)"
      ]
     },
     "execution_count": 163,
     "metadata": {},
     "output_type": "execute_result"
    }
   ],
   "source": [
    "confusion_matrix(y_test,y_pred_svm)"
   ]
  },
  {
   "cell_type": "code",
   "execution_count": 164,
   "id": "ca6d03fd",
   "metadata": {},
   "outputs": [
    {
     "name": "stdout",
     "output_type": "stream",
     "text": [
      "              precision    recall  f1-score   support\n",
      "\n",
      "           0       0.90      0.70      0.79      4089\n",
      "           1       0.44      0.76      0.56      1294\n",
      "\n",
      "    accuracy                           0.71      5383\n",
      "   macro avg       0.67      0.73      0.67      5383\n",
      "weighted avg       0.79      0.71      0.73      5383\n",
      "\n"
     ]
    }
   ],
   "source": [
    "print(classification_report(y_test,y_pred_svm))"
   ]
  },
  {
   "cell_type": "code",
   "execution_count": 165,
   "id": "b587e075",
   "metadata": {},
   "outputs": [
    {
     "name": "stdout",
     "output_type": "stream",
     "text": [
      "accuracy_score for svm model is 0.7139141742522757\n",
      "precision_score for svm model is 0.7911229930785418\n",
      "recall_score for svm model is 0.7139141742522757\n",
      "F1_score for svm model is 0.7332167099412109\n"
     ]
    }
   ],
   "source": [
    "print(\"accuracy_score for svm model is\",(accuracy_score(y_test,y_pred_svm)))\n",
    "print(\"precision_score for svm model is\",(precision_score(y_test,y_pred_svm,average='weighted')))\n",
    "print(\"recall_score for svm model is\",(recall_score(y_test,y_pred_svm,average='weighted')))\n",
    "print(\"F1_score for svm model is\",(f1_score(y_test,y_pred_svm,average='weighted')))"
   ]
  },
  {
   "cell_type": "markdown",
   "id": "7ab564cd",
   "metadata": {},
   "source": [
    "# Decision Tree Classifier"
   ]
  },
  {
   "cell_type": "code",
   "execution_count": 166,
   "id": "cd178cca",
   "metadata": {},
   "outputs": [],
   "source": [
    "from sklearn.tree import DecisionTreeClassifier"
   ]
  },
  {
   "cell_type": "code",
   "execution_count": 167,
   "id": "f0829858",
   "metadata": {},
   "outputs": [],
   "source": [
    "dt_clf=DecisionTreeClassifier()\n",
    "dt_clf=dt_clf.fit(X_train_sm,y_train_sm)\n",
    "y_pred_dt=dt_clf.predict(X_test)"
   ]
  },
  {
   "cell_type": "code",
   "execution_count": 168,
   "id": "0b3acc8c",
   "metadata": {},
   "outputs": [
    {
     "data": {
      "text/plain": [
       "array([[2925, 1164],\n",
       "       [ 373,  921]], dtype=int64)"
      ]
     },
     "execution_count": 168,
     "metadata": {},
     "output_type": "execute_result"
    }
   ],
   "source": [
    "confusion_matrix(y_test,y_pred_logit)"
   ]
  },
  {
   "cell_type": "code",
   "execution_count": 169,
   "id": "a235a00f",
   "metadata": {},
   "outputs": [
    {
     "name": "stdout",
     "output_type": "stream",
     "text": [
      "              precision    recall  f1-score   support\n",
      "\n",
      "           0       0.83      0.82      0.83      4089\n",
      "           1       0.45      0.46      0.45      1294\n",
      "\n",
      "    accuracy                           0.74      5383\n",
      "   macro avg       0.64      0.64      0.64      5383\n",
      "weighted avg       0.74      0.74      0.74      5383\n",
      "\n"
     ]
    }
   ],
   "source": [
    "print(classification_report(y_test,y_pred_dt))"
   ]
  },
  {
   "cell_type": "code",
   "execution_count": 170,
   "id": "3cfa4838",
   "metadata": {},
   "outputs": [
    {
     "name": "stdout",
     "output_type": "stream",
     "text": [
      "Accuracy_score for decision tree model is 0.7360208062418726\n",
      "Precision_score for decision tree model is 0.7372083727803944\n",
      "Recall_score for decision tree model is 0.7360208062418726\n",
      "F1_score for decision tree model is 0.7366072140648772\n"
     ]
    }
   ],
   "source": [
    "print(\"Accuracy_score for decision tree model is\",(accuracy_score(y_test,y_pred_dt)))\n",
    "print(\"Precision_score for decision tree model is\",(precision_score(y_test,y_pred_dt,average='weighted')))\n",
    "print(\"Recall_score for decision tree model is\",(recall_score(y_test,y_pred_dt,average='weighted')))\n",
    "print(\"F1_score for decision tree model is\",(f1_score(y_test,y_pred_dt,average='weighted')))"
   ]
  },
  {
   "cell_type": "markdown",
   "id": "42a2a087",
   "metadata": {},
   "source": [
    "# Random Forest Classifier Model"
   ]
  },
  {
   "cell_type": "code",
   "execution_count": 171,
   "id": "9f608373",
   "metadata": {},
   "outputs": [],
   "source": [
    "from sklearn.ensemble import RandomForestClassifier"
   ]
  },
  {
   "cell_type": "code",
   "execution_count": 172,
   "id": "85f06d4c",
   "metadata": {},
   "outputs": [],
   "source": [
    "rf_clf=RandomForestClassifier()\n",
    "rf_clf=rf_clf.fit(X_train_sm,y_train_sm)\n",
    "y_pred_rf=rf_clf.predict(X_test)"
   ]
  },
  {
   "cell_type": "code",
   "execution_count": 173,
   "id": "3a7ba197",
   "metadata": {},
   "outputs": [
    {
     "data": {
      "text/plain": [
       "array([[3493,  596],\n",
       "       [ 633,  661]], dtype=int64)"
      ]
     },
     "execution_count": 173,
     "metadata": {},
     "output_type": "execute_result"
    }
   ],
   "source": [
    "confusion_matrix(y_test,y_pred_rf)"
   ]
  },
  {
   "cell_type": "code",
   "execution_count": 174,
   "id": "6a82501d",
   "metadata": {},
   "outputs": [
    {
     "name": "stdout",
     "output_type": "stream",
     "text": [
      "              precision    recall  f1-score   support\n",
      "\n",
      "           0       0.85      0.85      0.85      4089\n",
      "           1       0.53      0.51      0.52      1294\n",
      "\n",
      "    accuracy                           0.77      5383\n",
      "   macro avg       0.69      0.68      0.68      5383\n",
      "weighted avg       0.77      0.77      0.77      5383\n",
      "\n"
     ]
    }
   ],
   "source": [
    "print(classification_report(y_test,y_pred_rf))"
   ]
  },
  {
   "cell_type": "code",
   "execution_count": 175,
   "id": "50da23aa",
   "metadata": {},
   "outputs": [
    {
     "name": "stdout",
     "output_type": "stream",
     "text": [
      "Accuracy_score of random forest model is 0.7716886494519785\n",
      "Precision_score of random forest model is 0.7694841324307945\n",
      "f1_score of random forest model is 0.7705470744508595\n",
      "Recall_score of random forest model is 0.7716886494519785\n"
     ]
    }
   ],
   "source": [
    "print(\"Accuracy_score of random forest model is\",(accuracy_score(y_test,y_pred_rf)))\n",
    "print(\"Precision_score of random forest model is\",(precision_score(y_test,y_pred_rf,average='weighted')))\n",
    "print(\"f1_score of random forest model is\",(f1_score(y_test,y_pred_rf,average='weighted')))\n",
    "print(\"Recall_score of random forest model is\",(recall_score(y_test,y_pred_rf,average='weighted')))\n"
   ]
  },
  {
   "cell_type": "markdown",
   "id": "9ae9b0cb",
   "metadata": {},
   "source": [
    "# Bagging Classifier Model"
   ]
  },
  {
   "cell_type": "code",
   "execution_count": 176,
   "id": "23f15e1b",
   "metadata": {},
   "outputs": [],
   "source": [
    "from sklearn.ensemble import BaggingClassifier"
   ]
  },
  {
   "cell_type": "code",
   "execution_count": 177,
   "id": "0180774b",
   "metadata": {},
   "outputs": [],
   "source": [
    "bag_clf=BaggingClassifier()\n",
    "bag_clf=bag_clf.fit(X_train_sm,y_train_sm)\n",
    "y_pred_bag=bag_clf.predict(X_test)"
   ]
  },
  {
   "cell_type": "code",
   "execution_count": 178,
   "id": "11dd15bf",
   "metadata": {},
   "outputs": [
    {
     "data": {
      "text/plain": [
       "array([[3505,  584],\n",
       "       [ 677,  617]], dtype=int64)"
      ]
     },
     "execution_count": 178,
     "metadata": {},
     "output_type": "execute_result"
    }
   ],
   "source": [
    "confusion_matrix(y_test,y_pred_bag)"
   ]
  },
  {
   "cell_type": "code",
   "execution_count": 179,
   "id": "9fab968c",
   "metadata": {},
   "outputs": [
    {
     "name": "stdout",
     "output_type": "stream",
     "text": [
      "              precision    recall  f1-score   support\n",
      "\n",
      "           0       0.84      0.86      0.85      4089\n",
      "           1       0.51      0.48      0.49      1294\n",
      "\n",
      "    accuracy                           0.77      5383\n",
      "   macro avg       0.68      0.67      0.67      5383\n",
      "weighted avg       0.76      0.77      0.76      5383\n",
      "\n"
     ]
    }
   ],
   "source": [
    "print(classification_report(y_test,y_pred_bag))"
   ]
  },
  {
   "cell_type": "code",
   "execution_count": 180,
   "id": "5126d80f",
   "metadata": {},
   "outputs": [
    {
     "name": "stdout",
     "output_type": "stream",
     "text": [
      "Accuracy_score of bagging classifier is 0.7657440089169608\n",
      "Precision_score of bagging classifier is 0.7601398703308786\n",
      "F1_score of bagging classifier is 0.7626951152835303\n",
      "Recall_score of bagging classifier is 0.7657440089169608\n"
     ]
    }
   ],
   "source": [
    "print(\"Accuracy_score of bagging classifier is\",(accuracy_score(y_test,y_pred_bag)))\n",
    "print(\"Precision_score of bagging classifier is\",(precision_score(y_test,y_pred_bag,average='weighted')))\n",
    "print(\"F1_score of bagging classifier is\",(f1_score(y_test,y_pred_bag,average='weighted')))\n",
    "print(\"Recall_score of bagging classifier is\",(recall_score(y_test,y_pred_bag,average='weighted')))\n"
   ]
  },
  {
   "cell_type": "markdown",
   "id": "09826168",
   "metadata": {},
   "source": [
    "# Gradient Boosting Classifier"
   ]
  },
  {
   "cell_type": "code",
   "execution_count": 181,
   "id": "b0d1c568",
   "metadata": {},
   "outputs": [],
   "source": [
    "from sklearn.ensemble import GradientBoostingClassifier"
   ]
  },
  {
   "cell_type": "code",
   "execution_count": 182,
   "id": "72326c25",
   "metadata": {},
   "outputs": [],
   "source": [
    "gb_clf=GradientBoostingClassifier()\n",
    "gb_clf=gb_clf.fit(X_train_sm,y_train_sm)\n",
    "y_pred_gb=gb_clf.predict(X_test)"
   ]
  },
  {
   "cell_type": "code",
   "execution_count": 183,
   "id": "1ff4fee3",
   "metadata": {},
   "outputs": [
    {
     "data": {
      "text/plain": [
       "array([[3377,  712],\n",
       "       [ 357,  937]], dtype=int64)"
      ]
     },
     "execution_count": 183,
     "metadata": {},
     "output_type": "execute_result"
    }
   ],
   "source": [
    "confusion_matrix(y_test,y_pred_gb)"
   ]
  },
  {
   "cell_type": "code",
   "execution_count": 184,
   "id": "50903640",
   "metadata": {},
   "outputs": [
    {
     "name": "stdout",
     "output_type": "stream",
     "text": [
      "              precision    recall  f1-score   support\n",
      "\n",
      "           0       0.90      0.83      0.86      4089\n",
      "           1       0.57      0.72      0.64      1294\n",
      "\n",
      "    accuracy                           0.80      5383\n",
      "   macro avg       0.74      0.77      0.75      5383\n",
      "weighted avg       0.82      0.80      0.81      5383\n",
      "\n"
     ]
    }
   ],
   "source": [
    "print(classification_report(y_test,y_pred_gb))"
   ]
  },
  {
   "cell_type": "code",
   "execution_count": 185,
   "id": "3fef3a19",
   "metadata": {},
   "outputs": [
    {
     "name": "stdout",
     "output_type": "stream",
     "text": [
      "Accuracy_score of gradient boosting model is 0.8014118521270667\n",
      "Precision_score of gradient boosting model is 0.8235816388793769\n",
      "F1_score of gradient boosting model is 0.8088833540479227\n",
      "Recall_score of gradient boosting model is 0.8014118521270667\n"
     ]
    }
   ],
   "source": [
    "print(\"Accuracy_score of gradient boosting model is\",(accuracy_score(y_test,y_pred_gb)))\n",
    "print(\"Precision_score of gradient boosting model is\",(precision_score(y_test,y_pred_gb,average='weighted')))\n",
    "print(\"F1_score of gradient boosting model is\",(f1_score(y_test,y_pred_gb,average='weighted')))\n",
    "print(\"Recall_score of gradient boosting model is\",(recall_score(y_test,y_pred_gb,average='weighted')))"
   ]
  },
  {
   "cell_type": "markdown",
   "id": "a74f75a1",
   "metadata": {},
   "source": [
    "# Ada Boost Classifier"
   ]
  },
  {
   "cell_type": "code",
   "execution_count": 186,
   "id": "0b22b49d",
   "metadata": {},
   "outputs": [],
   "source": [
    "from sklearn.ensemble import AdaBoostClassifier"
   ]
  },
  {
   "cell_type": "code",
   "execution_count": 187,
   "id": "3925fe58",
   "metadata": {},
   "outputs": [],
   "source": [
    "abc_clf=AdaBoostClassifier()\n",
    "abc_clf=abc_clf.fit(X_train_sm,y_train_sm)\n",
    "y_pred_abc=abc_clf.predict(X_test)"
   ]
  },
  {
   "cell_type": "code",
   "execution_count": 188,
   "id": "b522f255",
   "metadata": {},
   "outputs": [
    {
     "data": {
      "text/plain": [
       "array([[3353,  736],\n",
       "       [ 360,  934]], dtype=int64)"
      ]
     },
     "execution_count": 188,
     "metadata": {},
     "output_type": "execute_result"
    }
   ],
   "source": [
    "confusion_matrix(y_test,y_pred_abc)"
   ]
  },
  {
   "cell_type": "code",
   "execution_count": 189,
   "id": "e5b78d7f",
   "metadata": {},
   "outputs": [
    {
     "name": "stdout",
     "output_type": "stream",
     "text": [
      "              precision    recall  f1-score   support\n",
      "\n",
      "           0       0.90      0.82      0.86      4089\n",
      "           1       0.56      0.72      0.63      1294\n",
      "\n",
      "    accuracy                           0.80      5383\n",
      "   macro avg       0.73      0.77      0.74      5383\n",
      "weighted avg       0.82      0.80      0.80      5383\n",
      "\n"
     ]
    }
   ],
   "source": [
    "print(classification_report(y_test,y_pred_abc))"
   ]
  },
  {
   "cell_type": "code",
   "execution_count": 190,
   "id": "400d2d43",
   "metadata": {},
   "outputs": [
    {
     "name": "stdout",
     "output_type": "stream",
     "text": [
      "Accuracy of adaboost classifier is 0.7963960616756456\n",
      "f1_score of adaboost classifier is 0.8044040926140814\n",
      "Precision_score of adaboost Classifier is 0.8204076692250022\n",
      "recall_score of adaboost classifier is 0.7963960616756456\n"
     ]
    }
   ],
   "source": [
    "print(\"Accuracy of adaboost classifier is\",(accuracy_score(y_test,y_pred_abc)))\n",
    "print(\"f1_score of adaboost classifier is\",(f1_score(y_test,y_pred_abc,average='weighted')))\n",
    "print(\"Precision_score of adaboost Classifier is\",(precision_score(y_test,y_pred_abc,average='weighted')))\n",
    "print(\"recall_score of adaboost classifier is\",(recall_score(y_test,y_pred_abc,average='weighted')))"
   ]
  },
  {
   "cell_type": "markdown",
   "id": "9aebb8ae",
   "metadata": {},
   "source": [
    "# XG Boost Classifier"
   ]
  },
  {
   "cell_type": "code",
   "execution_count": 191,
   "id": "9c51bcc9",
   "metadata": {},
   "outputs": [],
   "source": [
    "from xgboost import XGBClassifier"
   ]
  },
  {
   "cell_type": "code",
   "execution_count": 192,
   "id": "96b706c9",
   "metadata": {},
   "outputs": [],
   "source": [
    "xgb_clf=XGBClassifier()\n",
    "xgb_clf=xgb_clf.fit(X_train_sm,y_train_sm)\n",
    "y_pred_xgb=xgb_clf.predict(X_test)"
   ]
  },
  {
   "cell_type": "code",
   "execution_count": 193,
   "id": "ae6b9661",
   "metadata": {},
   "outputs": [
    {
     "data": {
      "text/plain": [
       "array([[3577,  512],\n",
       "       [ 473,  821]], dtype=int64)"
      ]
     },
     "execution_count": 193,
     "metadata": {},
     "output_type": "execute_result"
    }
   ],
   "source": [
    "confusion_matrix(y_test,y_pred_xgb)"
   ]
  },
  {
   "cell_type": "code",
   "execution_count": 194,
   "id": "307807b3",
   "metadata": {},
   "outputs": [
    {
     "name": "stdout",
     "output_type": "stream",
     "text": [
      "              precision    recall  f1-score   support\n",
      "\n",
      "           0       0.88      0.87      0.88      4089\n",
      "           1       0.62      0.63      0.63      1294\n",
      "\n",
      "    accuracy                           0.82      5383\n",
      "   macro avg       0.75      0.75      0.75      5383\n",
      "weighted avg       0.82      0.82      0.82      5383\n",
      "\n"
     ]
    }
   ],
   "source": [
    "print(classification_report(y_test,y_pred_xgb))"
   ]
  },
  {
   "cell_type": "code",
   "execution_count": 195,
   "id": "4ad130c8",
   "metadata": {},
   "outputs": [
    {
     "name": "stdout",
     "output_type": "stream",
     "text": [
      "accuracy_score of xgboost model is 0.8170165335314881\n",
      "precision_score of xgboost model is 0.8189531729744417\n",
      "f1_score of xgboost model is 0.8179363994952132\n",
      "recall_score of xgboost model is 0.8170165335314881\n"
     ]
    }
   ],
   "source": [
    "print(\"accuracy_score of xgboost model is\",(accuracy_score(y_test,y_pred_xgb)))\n",
    "print(\"precision_score of xgboost model is\",(precision_score(y_test,y_pred_xgb,average='weighted')))\n",
    "print(\"f1_score of xgboost model is\",(f1_score(y_test,y_pred_xgb,average='weighted')))\n",
    "print(\"recall_score of xgboost model is\",(recall_score(y_test,y_pred_xgb,average='weighted')))"
   ]
  },
  {
   "cell_type": "markdown",
   "id": "e784d149",
   "metadata": {},
   "source": [
    "# Navie Bayes Algorithm"
   ]
  },
  {
   "cell_type": "code",
   "execution_count": 196,
   "id": "22c563a6",
   "metadata": {},
   "outputs": [],
   "source": [
    "from sklearn.naive_bayes import GaussianNB"
   ]
  },
  {
   "cell_type": "code",
   "execution_count": 197,
   "id": "2f625188",
   "metadata": {},
   "outputs": [],
   "source": [
    "gnb_clf=GaussianNB()\n",
    "gnb_clf=gnb_clf.fit(X_train_sm,y_train_sm)\n",
    "y_pred_gnb=gnb_clf.predict(X_test)"
   ]
  },
  {
   "cell_type": "code",
   "execution_count": 198,
   "id": "efb56c4b",
   "metadata": {},
   "outputs": [
    {
     "data": {
      "text/plain": [
       "array([[3008, 1081],\n",
       "       [ 348,  946]], dtype=int64)"
      ]
     },
     "execution_count": 198,
     "metadata": {},
     "output_type": "execute_result"
    }
   ],
   "source": [
    "confusion_matrix(y_test,y_pred_gnb)"
   ]
  },
  {
   "cell_type": "code",
   "execution_count": 199,
   "id": "41822238",
   "metadata": {},
   "outputs": [
    {
     "name": "stdout",
     "output_type": "stream",
     "text": [
      "              precision    recall  f1-score   support\n",
      "\n",
      "           0       0.90      0.74      0.81      4089\n",
      "           1       0.47      0.73      0.57      1294\n",
      "\n",
      "    accuracy                           0.73      5383\n",
      "   macro avg       0.68      0.73      0.69      5383\n",
      "weighted avg       0.79      0.73      0.75      5383\n",
      "\n"
     ]
    }
   ],
   "source": [
    "print(classification_report(y_test,y_pred_gnb))"
   ]
  },
  {
   "cell_type": "code",
   "execution_count": 200,
   "id": "ab0c3a76",
   "metadata": {},
   "outputs": [
    {
     "name": "stdout",
     "output_type": "stream",
     "text": [
      "accuracy_score of naive bayes model is 0.7345346461081181\n",
      "precision_score of naive bayes model is 0.7930337882575789\n",
      "f1_score of naive bayes model is 0.7507627173974819\n",
      "recall_score of naive bayes model is 0.7345346461081181\n"
     ]
    }
   ],
   "source": [
    "print(\"accuracy_score of naive bayes model is\",(accuracy_score(y_test,y_pred_gnb)))\n",
    "print(\"precision_score of naive bayes model is\",(precision_score(y_test,y_pred_gnb,average='weighted')))\n",
    "print(\"f1_score of naive bayes model is\",(f1_score(y_test,y_pred_gnb,average='weighted')))\n",
    "print(\"recall_score of naive bayes model is\",(recall_score(y_test,y_pred_gnb,average='weighted')))"
   ]
  },
  {
   "cell_type": "code",
   "execution_count": 201,
   "id": "77a09471",
   "metadata": {},
   "outputs": [],
   "source": [
    "from tabulate import tabulate"
   ]
  },
  {
   "cell_type": "code",
   "execution_count": 202,
   "id": "59fbc4c4",
   "metadata": {
    "scrolled": true
   },
   "outputs": [
    {
     "name": "stdout",
     "output_type": "stream",
     "text": [
      "╒═════════════════════╤════════════╕\n",
      "│ Model               │   Accuracy │\n",
      "╞═════════════════════╪════════════╡\n",
      "│ Logistic Regression │   0.714471 │\n",
      "├─────────────────────┼────────────┤\n",
      "│ KNN                 │   0.742709 │\n",
      "├─────────────────────┼────────────┤\n",
      "│ SVM                 │   0.713914 │\n",
      "├─────────────────────┼────────────┤\n",
      "│ Decision Tree       │   0.736021 │\n",
      "├─────────────────────┼────────────┤\n",
      "│ Random Forest       │   0.771689 │\n",
      "├─────────────────────┼────────────┤\n",
      "│ Bagging             │   0.765744 │\n",
      "├─────────────────────┼────────────┤\n",
      "│ Gradient Boosting   │   0.801412 │\n",
      "├─────────────────────┼────────────┤\n",
      "│ Ada Boost           │   0.796396 │\n",
      "├─────────────────────┼────────────┤\n",
      "│ XG Boost            │   0.817017 │\n",
      "├─────────────────────┼────────────┤\n",
      "│ Naive Bayes         │   0.734535 │\n",
      "╘═════════════════════╧════════════╛\n"
     ]
    }
   ],
   "source": [
    "table=[['Model','Accuracy'],['Logistic Regression',(accuracy_score(y_test,y_pred_logit))],['KNN',(accuracy_score(y_test,y_pred_KNN))],['SVM',(accuracy_score(y_test,y_pred_svm))],['Decision Tree',(accuracy_score(y_test,y_pred_dt))],['Random Forest',(accuracy_score(y_test,y_pred_rf))],['Bagging',(accuracy_score(y_test,y_pred_bag))],['Gradient Boosting',(accuracy_score(y_test,y_pred_gb))],['Ada Boost',(accuracy_score(y_test,y_pred_abc))],['XG Boost',(accuracy_score(y_test,y_pred_xgb))],['Naive Bayes',(accuracy_score(y_test,y_pred_gnb))]]\n",
    "print(tabulate(table,headers='firstrow',tablefmt='fancy_grid'))"
   ]
  },
  {
   "cell_type": "code",
   "execution_count": 203,
   "id": "4b820afc",
   "metadata": {},
   "outputs": [],
   "source": [
    "# from the table it is clear that Gradient Boosting Algorithm gives the highest accuracy"
   ]
  },
  {
   "cell_type": "markdown",
   "id": "b6eecf70",
   "metadata": {},
   "source": [
    "# Hyperparameter Tuning"
   ]
  },
  {
   "cell_type": "code",
   "execution_count": 205,
   "id": "6d3376b7",
   "metadata": {},
   "outputs": [],
   "source": [
    "from sklearn.model_selection import RandomizedSearchCV"
   ]
  },
  {
   "cell_type": "code",
   "execution_count": 206,
   "id": "b18dc242",
   "metadata": {},
   "outputs": [],
   "source": [
    "classifier=XGBClassifier()"
   ]
  },
  {
   "cell_type": "code",
   "execution_count": 207,
   "id": "b0870996",
   "metadata": {},
   "outputs": [],
   "source": [
    "params = {\n",
    " 'learning_rate' : [0.05,0.10,0.15,0.20,0.25,0.30],\n",
    " 'max_depth' : [1,3, 4, 5, 6,7, 8, 10, 12, 15],\n",
    " 'min_child_weight': [1, 3, 5, 7],\n",
    " 'gamma': [ 0.0, 0.1, 0.2 , 0.3, 0.4,10 ],\n",
    " 'colsample_bytree' : [ 0.3, 0.4, 0.5 ,0.7]\n",
    "}"
   ]
  },
  {
   "cell_type": "code",
   "execution_count": 208,
   "id": "3b0570d8",
   "metadata": {},
   "outputs": [
    {
     "name": "stdout",
     "output_type": "stream",
     "text": [
      "Fitting 5 folds for each of 5 candidates, totalling 25 fits\n"
     ]
    },
    {
     "data": {
      "text/plain": [
       "RandomizedSearchCV(cv=5,\n",
       "                   estimator=XGBClassifier(base_score=None, booster=None,\n",
       "                                           callbacks=None,\n",
       "                                           colsample_bylevel=None,\n",
       "                                           colsample_bynode=None,\n",
       "                                           colsample_bytree=None,\n",
       "                                           early_stopping_rounds=None,\n",
       "                                           enable_categorical=False,\n",
       "                                           eval_metric=None, feature_types=None,\n",
       "                                           gamma=None, gpu_id=None,\n",
       "                                           grow_policy=None,\n",
       "                                           importance_type=None,\n",
       "                                           interaction_constraints=None,\n",
       "                                           learning_rate...\n",
       "                                           monotone_constraints=None,\n",
       "                                           n_estimators=100, n_jobs=None,\n",
       "                                           num_parallel_tree=None,\n",
       "                                           predictor=None, random_state=None, ...),\n",
       "                   n_iter=5, n_jobs=-1,\n",
       "                   param_distributions={'colsample_bytree': [0.3, 0.4, 0.5,\n",
       "                                                             0.7],\n",
       "                                        'gamma': [0.0, 0.1, 0.2, 0.3, 0.4, 10],\n",
       "                                        'learning_rate': [0.05, 0.1, 0.15, 0.2,\n",
       "                                                          0.25, 0.3],\n",
       "                                        'max_depth': [1, 3, 4, 5, 6, 7, 8, 10,\n",
       "                                                      12, 15],\n",
       "                                        'min_child_weight': [1, 3, 5, 7]},\n",
       "                   scoring='accuracy', verbose=3)"
      ]
     },
     "execution_count": 208,
     "metadata": {},
     "output_type": "execute_result"
    }
   ],
   "source": [
    "randm=RandomizedSearchCV(classifier,param_distributions=params,n_iter=5,scoring='accuracy',n_jobs=-1,cv=5,verbose=3)\n",
    "randm.fit(X_train_sm,y_train_sm)"
   ]
  },
  {
   "cell_type": "code",
   "execution_count": 209,
   "id": "878d50fe",
   "metadata": {},
   "outputs": [
    {
     "name": "stdout",
     "output_type": "stream",
     "text": [
      "the best estimator across all searched params: XGBClassifier(base_score=0.5, booster='gbtree', callbacks=None,\n",
      "              colsample_bylevel=1, colsample_bynode=1, colsample_bytree=0.7,\n",
      "              early_stopping_rounds=None, enable_categorical=False,\n",
      "              eval_metric=None, feature_types=None, gamma=0.2, gpu_id=-1,\n",
      "              grow_policy='depthwise', importance_type=None,\n",
      "              interaction_constraints='', learning_rate=0.25, max_bin=256,\n",
      "              max_cat_threshold=64, max_cat_to_onehot=4, max_delta_step=0,\n",
      "              max_depth=8, max_leaves=0, min_child_weight=3, missing=nan,\n",
      "              monotone_constraints='()', n_estimators=100, n_jobs=0,\n",
      "              num_parallel_tree=1, predictor='auto', random_state=0, ...)\n"
     ]
    }
   ],
   "source": [
    "print(\"the best estimator across all searched params:\",randm.best_estimator_)"
   ]
  },
  {
   "cell_type": "code",
   "execution_count": 210,
   "id": "916b9a6d",
   "metadata": {},
   "outputs": [
    {
     "name": "stdout",
     "output_type": "stream",
     "text": [
      "The best score across all searched params: 0.8620497940178531\n"
     ]
    }
   ],
   "source": [
    "print(\"The best score across all searched params:\",randm.best_score_)"
   ]
  },
  {
   "cell_type": "code",
   "execution_count": 211,
   "id": "55be6a14",
   "metadata": {},
   "outputs": [
    {
     "name": "stdout",
     "output_type": "stream",
     "text": [
      "The best parameters across all searched params: {'min_child_weight': 3, 'max_depth': 8, 'learning_rate': 0.25, 'gamma': 0.2, 'colsample_bytree': 0.7}\n"
     ]
    }
   ],
   "source": [
    "print(\"The best parameters across all searched params:\",randm.best_params_)"
   ]
  },
  {
   "cell_type": "code",
   "execution_count": 212,
   "id": "9abe74fa",
   "metadata": {},
   "outputs": [
    {
     "data": {
      "text/plain": [
       "relationship      40.328431\n",
       "education         32.035731\n",
       "marital_status    14.692468\n",
       "age                5.707912\n",
       "hours_per_week     3.936108\n",
       "occupation         1.821283\n",
       "workclass          1.100666\n",
       "race               0.282793\n",
       "sex                0.094609\n",
       "dtype: float64"
      ]
     },
     "execution_count": 212,
     "metadata": {},
     "output_type": "execute_result"
    }
   ],
   "source": [
    "pd.Series(gb_clf.feature_importances_,index=X.columns).sort_values(ascending=False)*100"
   ]
  },
  {
   "cell_type": "code",
   "execution_count": 213,
   "id": "c11811df",
   "metadata": {},
   "outputs": [
    {
     "data": {
      "text/plain": [
       "XGBClassifier(base_score=0.5, booster='gbtree', callbacks=None,\n",
       "              colsample_bylevel=1, colsample_bynode=1, colsample_bytree=0.7,\n",
       "              early_stopping_rounds=None, enable_categorical=False,\n",
       "              eval_metric=None, feature_types=None, gamma=0.2, gpu_id=-1,\n",
       "              grow_policy='depthwise', importance_type=None,\n",
       "              interaction_constraints='', learning_rate=0.25, max_bin=256,\n",
       "              max_cat_threshold=64, max_cat_to_onehot=4, max_delta_step=0,\n",
       "              max_depth=8, max_leaves=0, min_child_weight=3, missing=nan,\n",
       "              monotone_constraints='()', n_estimators=100, n_jobs=0,\n",
       "              num_parallel_tree=1, predictor='auto', random_state=0, ...)"
      ]
     },
     "execution_count": 213,
     "metadata": {},
     "output_type": "execute_result"
    }
   ],
   "source": [
    "xgb_clf1=XGBClassifier(min_child_weight=3,max_depth=8,learning_rate=0.25,gamma=0.2,colsample_bytree=0.7)\n",
    "xgb_clf1.fit(X_train_sm,y_train_sm)"
   ]
  },
  {
   "cell_type": "code",
   "execution_count": 214,
   "id": "264956c6",
   "metadata": {},
   "outputs": [],
   "source": [
    "y_pred_xb=xgb_clf1.predict(X_test)"
   ]
  },
  {
   "cell_type": "code",
   "execution_count": 215,
   "id": "66b98bf2",
   "metadata": {},
   "outputs": [
    {
     "data": {
      "text/plain": [
       "0.8225896340330671"
      ]
     },
     "execution_count": 215,
     "metadata": {},
     "output_type": "execute_result"
    }
   ],
   "source": [
    "accuracy_score(y_test,y_pred_xb)"
   ]
  },
  {
   "cell_type": "code",
   "execution_count": 216,
   "id": "c5dc5e96",
   "metadata": {},
   "outputs": [
    {
     "name": "stdout",
     "output_type": "stream",
     "text": [
      "              precision    recall  f1-score   support\n",
      "\n",
      "           0       0.89      0.88      0.88      4089\n",
      "           1       0.63      0.64      0.63      1294\n",
      "\n",
      "    accuracy                           0.82      5383\n",
      "   macro avg       0.76      0.76      0.76      5383\n",
      "weighted avg       0.82      0.82      0.82      5383\n",
      "\n"
     ]
    }
   ],
   "source": [
    "print(classification_report(y_test,y_pred_xb))"
   ]
  },
  {
   "cell_type": "code",
   "execution_count": 217,
   "id": "f4f3f387",
   "metadata": {},
   "outputs": [
    {
     "name": "stdout",
     "output_type": "stream",
     "text": [
      "╒═══════════════════════════╤══════════╕\n",
      "│ Accuracies of XGB Model   │   Values │\n",
      "╞═══════════════════════════╪══════════╡\n",
      "│ Before tuning             │  81.7017 │\n",
      "├───────────────────────────┼──────────┤\n",
      "│ After tuning              │  82.259  │\n",
      "╘═══════════════════════════╧══════════╛\n"
     ]
    }
   ],
   "source": [
    "table=[['Accuracies of XGB Model','Values'],['Before tuning',(accuracy_score(y_test,y_pred_xgb)*100)],['After tuning',(accuracy_score(y_test,y_pred_xb)*100)]]\n",
    "print(tabulate(table,headers='firstrow',tablefmt='fancy_grid'))"
   ]
  },
  {
   "cell_type": "code",
   "execution_count": 218,
   "id": "57a511e2",
   "metadata": {},
   "outputs": [],
   "source": [
    "#accuracy before tuning is 81.7017 and accuracy after tuning is 82.259"
   ]
  },
  {
   "cell_type": "markdown",
   "id": "61775882",
   "metadata": {},
   "source": [
    "Building a Predictive System"
   ]
  },
  {
   "cell_type": "code",
   "execution_count": 219,
   "id": "25b4449f",
   "metadata": {},
   "outputs": [
    {
     "name": "stdout",
     "output_type": "stream",
     "text": [
      "Enter the Age,Workclass,Education,Marital-Status,Occupation,Relationship ,Race,Sex and Hours-per-week\n",
      "The input given is: (53.0, 3, 4.0, 2, 3, 0, 4, 1, 40)\n",
      "[1]\n",
      "Salary obtained is: >=50k\n"
     ]
    },
    {
     "name": "stderr",
     "output_type": "stream",
     "text": [
      "C:\\Users\\hp\\anaconda3\\lib\\site-packages\\sklearn\\base.py:450: UserWarning: X does not have valid feature names, but GradientBoostingClassifier was fitted with feature names\n",
      "  warnings.warn(\n"
     ]
    }
   ],
   "source": [
    "print(\"Enter the Age,Workclass,Education,Marital-Status,Occupation,Relationship ,Race,Sex and Hours-per-week\")\n",
    "      \n",
    "input_data=(53.0,3,4.0,2,3,0,4,1,40)\n",
    "print(\"The input given is:\",input_data)\n",
    "\n",
    "#changing the input data to a numpy array\n",
    "input_data_as_numpy_array = np.asarray(input_data)\n",
    "\n",
    "#reshape the data as we are predicting the label for only one instance\n",
    "input_data_reshaped = input_data_as_numpy_array.reshape(1,-1)\n",
    "\n",
    "prediction = gb_clf.predict(input_data_reshaped)\n",
    "\n",
    "print(prediction)\n",
    "\n",
    "if(prediction[0]==0):\n",
    "    print(\"Salary obtained is: <=50k\")\n",
    "else:\n",
    "     print(\"Salary obtained is: >=50k\")"
   ]
  },
  {
   "cell_type": "code",
   "execution_count": 220,
   "id": "51de238b",
   "metadata": {},
   "outputs": [
    {
     "data": {
      "text/plain": [
       "XGBClassifier(base_score=0.5, booster='gbtree', callbacks=None,\n",
       "              colsample_bylevel=1, colsample_bynode=1, colsample_bytree=1,\n",
       "              early_stopping_rounds=None, enable_categorical=False,\n",
       "              eval_metric=None, feature_types=None, gamma=0, gpu_id=-1,\n",
       "              grow_policy='depthwise', importance_type=None,\n",
       "              interaction_constraints='', learning_rate=0.300000012,\n",
       "              max_bin=256, max_cat_threshold=64, max_cat_to_onehot=4,\n",
       "              max_delta_step=0, max_depth=6, max_leaves=0, min_child_weight=1,\n",
       "              missing=nan, monotone_constraints='()', n_estimators=100,\n",
       "              n_jobs=0, num_parallel_tree=1, predictor='auto', random_state=0, ...)"
      ]
     },
     "execution_count": 220,
     "metadata": {},
     "output_type": "execute_result"
    }
   ],
   "source": [
    "py_flask=XGBClassifier()\n",
    "py_flask.fit(X,y)"
   ]
  },
  {
   "cell_type": "code",
   "execution_count": 221,
   "id": "3483096b",
   "metadata": {},
   "outputs": [],
   "source": [
    "#saving model\n",
    "import pickle\n",
    "pickle.dump(py_flask,open('flask_hrsalary1.pkl',\"wb\"))"
   ]
  },
  {
   "cell_type": "code",
   "execution_count": null,
   "id": "7a3f4a90",
   "metadata": {},
   "outputs": [],
   "source": []
  }
 ],
 "metadata": {
  "kernelspec": {
   "display_name": "Python 3 (ipykernel)",
   "language": "python",
   "name": "python3"
  },
  "language_info": {
   "codemirror_mode": {
    "name": "ipython",
    "version": 3
   },
   "file_extension": ".py",
   "mimetype": "text/x-python",
   "name": "python",
   "nbconvert_exporter": "python",
   "pygments_lexer": "ipython3",
   "version": "3.9.12"
  }
 },
 "nbformat": 4,
 "nbformat_minor": 5
}
